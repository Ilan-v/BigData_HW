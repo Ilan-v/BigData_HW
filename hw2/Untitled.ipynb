{
 "cells": [
  {
   "cell_type": "code",
   "execution_count": 1,
   "metadata": {
    "collapsed": false
   },
   "outputs": [
    {
     "name": "stdout",
     "output_type": "stream",
     "text": [
      "countries.txt\n",
      "microsoft-com.data\n",
      "microsoft-com.info\n",
      "Untitled.ipynb\n"
     ]
    }
   ],
   "source": [
    "%%bash\n",
    "ls"
   ]
  },
  {
   "cell_type": "code",
   "execution_count": 2,
   "metadata": {
    "collapsed": false
   },
   "outputs": [
    {
     "name": "stdout",
     "output_type": "stream",
     "text": [
      "1. Title: \"Anonymous web data from www.microsoft.com\"\r\n",
      "\r\n",
      "2. Source Information\r\n",
      "   -- Creators: Jack S. Breese, David Heckerman, Carl M. Kadie\r\n",
      "     -- Microsoft Research, Redmond WA, 98052-6399, USA\r\n",
      "     -- breese@microsoft.com, heckerma@microsoft.com, carlk@microsoft.com\r\n",
      "   -- Donor: Breese, Heckerman, & Kadie\r\n",
      "   -- Date: November 1998\r\n",
      " \r\n",
      "3. Past Usage:\r\n",
      "   -- J. Breese, D. Heckerman., C. Kadie _Empirical Analysis of\r\n",
      "      Predictive Algorithms for Collaborative Filtering_ Proceedings\r\n",
      "      of the Fourteenth Conference on Uncertainty in Artificial Intelligence,\r\n",
      "      Madison, WI, July, 1998. \r\n",
      "\tAlso, expanded as Microsoft Research Technical Report MSR-TR-98-12,\r\n",
      "\tThe papers are available on-line at:\r\n",
      "             http://research.microsoft.com/users/breese/cfalgs.html\r\n",
      "      -- Results: Used to compare various memory-based and model-based collobative\r\n",
      "         filtering.\r\n",
      "    - Predicted attribute: Goal was to predict what areas of the web site a\r\n",
      "         user visited based on data on what other areas he or she visited.\r\n",
      "\r\n",
      "4. Relevant Information:\r\n",
      "\r\n",
      "    We created the data by sampling and processing the www.microsoft.com logs.\r\n",
      "    The data records the use of www.microsoft.com by 30000 anonymous,\r\n",
      "    randomly-selected users. For each user, the data lists all the areas of\r\n",
      "    the web site (Vroots) that user visited in a one week timeframe.\r\n",
      "\r\n",
      "    Users are identified only by a sequential number, for example, User #14988,\r\n",
      "    User #14989, etc. The file contains no personally identifiable information.\r\n",
      "    The 294 Vroots are identified by their title (e.g. \"NetShow for PowerPoint\")\r\n",
      "    and URL (e.g. \"/stream\"). The data comes from one week in September, 1998.\r\n",
      "\r\n",
      "    Dataset format:\r\n",
      "\t-- The data is in an ASCII-based sparse-data format called \"DST\".\r\n",
      "           Each line of the data file starts with a letter which tells the line's type.\r\n",
      "           The three line types of interest are:\r\n",
      "               -- Attribute lines:\r\n",
      "\t\t     For example, 'A,1277,1,\"NetShow for PowerPoint\",\"/stream\"'\r\n",
      "                     Where:\r\n",
      "                        'A' marks this as an attribute line,\r\n",
      "                        '1277' is the attribute ID number for an area of the website\r\n",
      "                                 (called a Vroot),\r\n",
      "\t                '1' may be ignored,\r\n",
      "\t\t\t'\"NetShow for PowerPoint\"' is the title of the Vroot,\r\n",
      "                        '\"/stream\"' is the URL relative to \"http://www.microsoft.com\"\r\n",
      "                -- Vote Lines:\r\n",
      "                    For each user, there is one or more vote lines.\r\n",
      "                     For example:\r\n",
      "                           V,10164,1123,1\r\n",
      "                           V,10164,1009,1\r\n",
      "                           V,10164,1052,1\r\n",
      "                      Where:\r\n",
      "                         'V' marks the vote lines,\r\n",
      "\t\t\t\t    '10164' is the case ID number of a user,\r\n",
      "                         '1123', 1009', 1052' are the attributes ID's of Vroots that a\r\n",
      "                                user visited.\r\n",
      "                          '1' may be ignored.\r\n",
      "\r\n",
      "5. Number of Instances:\r\n",
      "      -- Training: 32711\r\n",
      "      -- Testing:   5000\r\n",
      "    Each instance represents an anonymous, randomly selected user of the web site.\r\n",
      "\r\n",
      "6. Number of Attributes: 294\r\n",
      "\r\n",
      "7. Attribute Information:\r\n",
      "   Each attribute is an area (\"vroot\") of the www.microsoft.com web site.\r\n",
      "\r\n",
      "   The datasets record which Vroots each user visited in a one-week timeframe\r\n",
      "   in September 1998.\r\n",
      "\r\n",
      "8. Missing Attribute Values: The data is very sparse, so vroot visits are explicit,\r\n",
      "    nonvisits are implicit (missing).\r\n",
      "\r\n",
      "9. Class Distribution: \r\n",
      "    Mean number of vroot visits per case: 3.0\r\n",
      "\r\n"
     ]
    }
   ],
   "source": [
    "%%bash\n",
    "cat microsoft-com.info"
   ]
  },
  {
   "cell_type": "markdown",
   "metadata": {},
   "source": [
    "## Load the Microsoft.com data into HDFS"
   ]
  },
  {
   "cell_type": "code",
   "execution_count": 27,
   "metadata": {
    "collapsed": false
   },
   "outputs": [
    {
     "name": "stderr",
     "output_type": "stream",
     "text": [
      "22/05/18 11:00:55 INFO fs.TrashPolicyDefault: Moved: 'hdfs://bdl0.eng.tau.ac.il:8020/user/stud22/ex2' to trash at: hdfs://bdl0.eng.tau.ac.il:8020/user/stud22/.Trash/Current/user/stud22/ex2\n"
     ]
    }
   ],
   "source": [
    "%%bash\n",
    "hdfs dfs -rm -r /user/stud22/ex2\n",
    "hdfs dfs -mkdir /user/stud22/ex2"
   ]
  },
  {
   "cell_type": "code",
   "execution_count": 28,
   "metadata": {
    "collapsed": false
   },
   "outputs": [],
   "source": [
    "%%bash\n",
    "hdfs dfs -put /home/stud22/workspace/ex2/microsoft-com.data/microsoft-com.data /user/stud22/ex2/microsoft-com.data"
   ]
  },
  {
   "cell_type": "code",
   "execution_count": 43,
   "metadata": {
    "collapsed": true
   },
   "outputs": [],
   "source": [
    "%%bash\n",
    "hdfs dfs -put /home/stud22/workspace/ex2/microsoft-com.data/countries.txt /user/stud22/ex2/countries.txt"
   ]
  },
  {
   "cell_type": "code",
   "execution_count": 44,
   "metadata": {
    "collapsed": false
   },
   "outputs": [
    {
     "name": "stdout",
     "output_type": "stream",
     "text": [
      "Found 2 items\n",
      "-rw-r--r--   3 stud22 stud22        387 2022-05-18 11:26 /user/stud22/ex2/countries.txt\n",
      "-rw-r--r--   3 stud22 stud22    1491520 2022-05-18 11:01 /user/stud22/ex2/microsoft-com.data\n"
     ]
    }
   ],
   "source": [
    "%%bash\n",
    "hdfs dfs -ls /user/stud22/ex2"
   ]
  },
  {
   "cell_type": "code",
   "execution_count": 30,
   "metadata": {
    "collapsed": false
   },
   "outputs": [
    {
     "name": "stdout",
     "output_type": "stream",
     "text": [
      "V,42706,1001,1\n",
      "V,42706,1004,1\n",
      "V,42707,1008,1\n",
      "V,42707,1030,1\n",
      "V,42707,1009,1\n",
      "V,42707,1058,1\n",
      "V,42707,1004,1\n",
      "V,42707,1018,1\n",
      "V,42708,1008,1\n",
      "V,42708,1027,1\n",
      "V,42708,1123,1\n",
      "V,42708,1038,1\n",
      "V,42708,1026,1\n",
      "V,42708,1041,1\n",
      "V,42709,1001,1\n",
      "V,42709,1003,1\n",
      "V,42710,1035,1\n",
      "V,42710,1001,1\n",
      "V,42710,1018,1\n",
      "V,42711,1008,1\n"
     ]
    }
   ],
   "source": [
    "%%bash\n",
    "hdfs dfs -cat /user/stud22/ex2/microsoft-com.data | tail -n 20"
   ]
  },
  {
   "cell_type": "markdown",
   "metadata": {},
   "source": [
    "## Parse the data according to the format specified in the .info file"
   ]
  },
  {
   "cell_type": "code",
   "execution_count": 85,
   "metadata": {
    "collapsed": true
   },
   "outputs": [],
   "source": [
    "from pyspark import SparkContext, SparkConf"
   ]
  },
  {
   "cell_type": "code",
   "execution_count": 86,
   "metadata": {
    "collapsed": true
   },
   "outputs": [],
   "source": [
    "raw_rdd = sc.textFile(\"hdfs:/user/stud22/ex2/microsoft-com.data\")"
   ]
  },
  {
   "cell_type": "code",
   "execution_count": 87,
   "metadata": {
    "collapsed": true
   },
   "outputs": [],
   "source": [
    "lst_rdd = raw_rdd.map(lambda line: line.replace('\"','').split(','))"
   ]
  },
  {
   "cell_type": "code",
   "execution_count": 88,
   "metadata": {
    "collapsed": false
   },
   "outputs": [
    {
     "data": {
      "text/plain": [
       "[[u'V', u'42711', u'1008', u'1'],\n",
       " [u'V', u'42710', u'1035', u'1'],\n",
       " [u'V', u'42710', u'1018', u'1'],\n",
       " [u'V', u'42710', u'1001', u'1'],\n",
       " [u'V', u'42709', u'1003', u'1']]"
      ]
     },
     "execution_count": 88,
     "metadata": {},
     "output_type": "execute_result"
    }
   ],
   "source": [
    "lst_rdd.top(5)"
   ]
  },
  {
   "cell_type": "markdown",
   "metadata": {},
   "source": [
    "## Given the list of countries in the file countries.txt (e.g., South Africa, Spain, Sweden, Switzerland),\n",
    "filter the data to include only users that visited at least one page related to one of the given countries."
   ]
  },
  {
   "cell_type": "markdown",
   "metadata": {},
   "source": [
    "## ASSUMPTION: the header is the same as the country name"
   ]
  },
  {
   "cell_type": "code",
   "execution_count": 89,
   "metadata": {
    "collapsed": false
   },
   "outputs": [],
   "source": [
    "def is_attr(line):\n",
    "    return line.startswith(\"A\")\n",
    "\n",
    "assert(not is_attr(\"V,42710,1001,1\"))\n",
    "assert(is_attr('A,1277,1,\"NetShow for PowerPoint\",\"/stream\"'))\n",
    "\n",
    "def filter_votes_by_countries(lst_rdd,countries_rdd):\n",
    "    attr_rdd = lst_rdd.filter(lambda x: x[0]=='A')\n",
    "    votes_rdd = lst_rdd.filter(lambda x: x[0]=='V')\n",
    "    countries_lst = sc.broadcast(countries_rdd.collect())\n",
    "    relevant_lines = attr_rdd.filter(lambda x: x[3] in countries_lst.values) # filter lines which contains countries\n",
    "    relevant_ids = relevant_lines.map(lambda x: x[1])\n",
    "    country_ids = sc.broadcast(relevant_ids.collect()) \n",
    "    country_votes = votes_rdd.filter(lambda x: x[2] in country_ids.value)\n",
    "    return country_votes\n",
    "    "
   ]
  },
  {
   "cell_type": "code",
   "execution_count": 82,
   "metadata": {
    "collapsed": true
   },
   "outputs": [],
   "source": [
    "attr_rdd = lst_rdd.filter(lambda x: x[0]=='A')\n",
    "votes_rdd = lst_rdd.filter(lambda x: x[0]=='V')"
   ]
  },
  {
   "cell_type": "code",
   "execution_count": 83,
   "metadata": {
    "collapsed": false
   },
   "outputs": [
    {
     "data": {
      "text/plain": [
       "[[u'A', u'1297', u'1', u'Central America', u'/centroam'],\n",
       " [u'A', u'1295', u'1', u'Training', u'/train_cert'],\n",
       " [u'A', u'1294', u'1', u'Bookshelf', u'/bookshelf'],\n",
       " [u'A', u'1293', u'1', u'Encarta', u'/encarta'],\n",
       " [u'A', u'1292', u'1', u'MS North Africa', u'/northafrica']]"
      ]
     },
     "execution_count": 83,
     "metadata": {},
     "output_type": "execute_result"
    }
   ],
   "source": [
    "attr_rdd.top(5)"
   ]
  },
  {
   "cell_type": "code",
   "execution_count": 84,
   "metadata": {
    "collapsed": false
   },
   "outputs": [
    {
     "data": {
      "text/plain": [
       "[[u'V', u'42711', u'1008', u'1'],\n",
       " [u'V', u'42710', u'1035', u'1'],\n",
       " [u'V', u'42710', u'1018', u'1'],\n",
       " [u'V', u'42710', u'1001', u'1'],\n",
       " [u'V', u'42709', u'1003', u'1']]"
      ]
     },
     "execution_count": 84,
     "metadata": {},
     "output_type": "execute_result"
    }
   ],
   "source": [
    "votes_rdd.top(5)"
   ]
  },
  {
   "cell_type": "code",
   "execution_count": 45,
   "metadata": {
    "collapsed": true
   },
   "outputs": [],
   "source": [
    "countries_rdd = sc.textFile(\"hdfs:/user/stud22/ex2/countries.txt\")"
   ]
  },
  {
   "cell_type": "code",
   "execution_count": 51,
   "metadata": {
    "collapsed": false
   },
   "outputs": [],
   "source": [
    "countries_lst = countries_rdd.collect() # cache in memory"
   ]
  },
  {
   "cell_type": "code",
   "execution_count": 60,
   "metadata": {
    "collapsed": false
   },
   "outputs": [],
   "source": [
    "relevant_lines = attr_rdd.filter(lambda x: x[3] in countries_lst) # filter lines which contains countries"
   ]
  },
  {
   "cell_type": "code",
   "execution_count": 59,
   "metadata": {
    "collapsed": false
   },
   "outputs": [
    {
     "data": {
      "text/plain": [
       "0.13945578231292516"
      ]
     },
     "execution_count": 59,
     "metadata": {},
     "output_type": "execute_result"
    }
   ],
   "source": [
    "relevant_lines.count() / float(attr_rdd.count())"
   ]
  },
  {
   "cell_type": "code",
   "execution_count": 61,
   "metadata": {
    "collapsed": true
   },
   "outputs": [],
   "source": [
    "relevant_ids = relevant_lines.map(lambda x: x[1])"
   ]
  },
  {
   "cell_type": "code",
   "execution_count": 63,
   "metadata": {
    "collapsed": false
   },
   "outputs": [],
   "source": [
    "votes_rdd = lst_rdd.filter(lambda x: x[0]=='V')"
   ]
  },
  {
   "cell_type": "code",
   "execution_count": 74,
   "metadata": {
    "collapsed": false
   },
   "outputs": [],
   "source": [
    "country_ids = sc.broadcast(relevant_ids.collect()) \n",
    "country_votes = votes_rdd.filter(lambda x: x[2] in country_ids.value)"
   ]
  },
  {
   "cell_type": "code",
   "execution_count": 75,
   "metadata": {
    "collapsed": false
   },
   "outputs": [
    {
     "data": {
      "text/plain": [
       "[[u'V', u'42708', u'1123', u'1'],\n",
       " [u'V', u'42706', u'1059', u'1'],\n",
       " [u'V', u'42698', u'1005', u'1'],\n",
       " [u'V', u'42688', u'1053', u'1'],\n",
       " [u'V', u'42665', u'1023', u'1'],\n",
       " [u'V', u'42649', u'1223', u'1'],\n",
       " [u'V', u'42647', u'1023', u'1'],\n",
       " [u'V', u'42641', u'1053', u'1'],\n",
       " [u'V', u'42637', u'1053', u'1'],\n",
       " [u'V', u'42636', u'1053', u'1']]"
      ]
     },
     "execution_count": 75,
     "metadata": {},
     "output_type": "execute_result"
    }
   ],
   "source": [
    "country_votes.top(10)"
   ]
  },
  {
   "cell_type": "code",
   "execution_count": 76,
   "metadata": {
    "collapsed": true
   },
   "outputs": [],
   "source": [
    "relevant_users = country_votes.map(lambda x: x[1]).distinct()"
   ]
  },
  {
   "cell_type": "code",
   "execution_count": 77,
   "metadata": {
    "collapsed": false
   },
   "outputs": [
    {
     "data": {
      "text/plain": [
       "[u'42708',\n",
       " u'42706',\n",
       " u'42698',\n",
       " u'42688',\n",
       " u'42665',\n",
       " u'42649',\n",
       " u'42647',\n",
       " u'42641',\n",
       " u'42637',\n",
       " u'42636']"
      ]
     },
     "execution_count": 77,
     "metadata": {},
     "output_type": "execute_result"
    }
   ],
   "source": [
    "relevant_users.top(10)"
   ]
  },
  {
   "cell_type": "code",
   "execution_count": 78,
   "metadata": {
    "collapsed": false
   },
   "outputs": [
    {
     "name": "stdout",
     "output_type": "stream",
     "text": [
      "(3199, 3334)\n"
     ]
    }
   ],
   "source": [
    "print(relevant_users.count(),country_votes.count())"
   ]
  },
  {
   "cell_type": "code",
   "execution_count": 79,
   "metadata": {
    "collapsed": true
   },
   "outputs": [],
   "source": [
    "# filter votes by the user ids we found \n",
    "user_ids = sc.broadcast(relevant_users.collect()) \n",
    "relevant_data = votes_rdd.filter(lambda x: x[1] in user_ids.value)"
   ]
  },
  {
   "cell_type": "code",
   "execution_count": 80,
   "metadata": {
    "collapsed": false
   },
   "outputs": [
    {
     "data": {
      "text/plain": [
       "[[u'V', u'42708', u'1123', u'1'],\n",
       " [u'V', u'42708', u'1041', u'1'],\n",
       " [u'V', u'42708', u'1038', u'1'],\n",
       " [u'V', u'42708', u'1027', u'1'],\n",
       " [u'V', u'42708', u'1026', u'1'],\n",
       " [u'V', u'42708', u'1008', u'1'],\n",
       " [u'V', u'42706', u'1059', u'1'],\n",
       " [u'V', u'42706', u'1004', u'1'],\n",
       " [u'V', u'42706', u'1003', u'1'],\n",
       " [u'V', u'42706', u'1001', u'1']]"
      ]
     },
     "execution_count": 80,
     "metadata": {},
     "output_type": "execute_result"
    }
   ],
   "source": [
    "relevant_data.top(10)"
   ]
  },
  {
   "cell_type": "code",
   "execution_count": 81,
   "metadata": {
    "collapsed": false
   },
   "outputs": [
    {
     "data": {
      "text/plain": [
       "13111"
      ]
     },
     "execution_count": 81,
     "metadata": {},
     "output_type": "execute_result"
    }
   ],
   "source": [
    "relevant_data.count()"
   ]
  },
  {
   "cell_type": "markdown",
   "metadata": {},
   "source": [
    "## For each country, the number of users that visited a page of that country. Exclude from your\n",
    "## report countries with a name longer than one word."
   ]
  },
  {
   "cell_type": "code",
   "execution_count": null,
   "metadata": {
    "collapsed": true
   },
   "outputs": [],
   "source": [
    "one_word_countries = "
   ]
  }
 ],
 "metadata": {
  "kernelspec": {
   "display_name": "Pyspark2(2.1.0)",
   "language": "python",
   "name": "pyspark2"
  },
  "language_info": {
   "codemirror_mode": {
    "name": "ipython",
    "version": 2
   },
   "file_extension": ".py",
   "mimetype": "text/x-python",
   "name": "python",
   "nbconvert_exporter": "python",
   "pygments_lexer": "ipython2",
   "version": "2.7.15"
  }
 },
 "nbformat": 4,
 "nbformat_minor": 2
}
