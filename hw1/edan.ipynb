{
 "cells": [
  {
   "cell_type": "code",
   "execution_count": 152,
   "metadata": {
    "collapsed": true
   },
   "outputs": [],
   "source": [
    "import time  \n",
    "import redis\n",
    "from pymongo import MongoClient"
   ]
  },
  {
   "cell_type": "code",
   "execution_count": 153,
   "metadata": {
    "collapsed": true
   },
   "outputs": [],
   "source": [
    "\n",
    "r = redis.StrictRedis(host='bdl1.eng.tau.ac.il', port=6379)"
   ]
  },
  {
   "cell_type": "code",
   "execution_count": 154,
   "metadata": {
    "collapsed": true
   },
   "outputs": [],
   "source": [
    "\n",
    "client = MongoClient()\n",
    "db = client['stud22']\n",
    "\n",
    "#clean up the collection before starting the exercise\n",
    "db.companies.drop()\n",
    "companies = db.companies"
   ]
  },
  {
   "cell_type": "markdown",
   "metadata": {},
   "source": [
    "## TODO: move setup to dedicated function"
   ]
  },
  {
   "cell_type": "code",
   "execution_count": 155,
   "metadata": {
    "collapsed": false
   },
   "outputs": [
    {
     "data": {
      "text/plain": [
       "1"
      ]
     },
     "execution_count": 155,
     "metadata": {},
     "output_type": "execute_result"
    }
   ],
   "source": [
    "# The name of the Redis set\n",
    "companiesSet = \"company:names\"\n",
    "r.delete(companiesSet)\n",
    "r.sadd(companiesSet, \"ibm\")\n",
    "r.sismember(companiesSet,'ibm')\n",
    "\n",
    "r.delete('oj')"
   ]
  },
  {
   "cell_type": "code",
   "execution_count": 156,
   "metadata": {
    "collapsed": false
   },
   "outputs": [
    {
     "data": {
      "text/plain": [
       "0"
      ]
     },
     "execution_count": 156,
     "metadata": {},
     "output_type": "execute_result"
    }
   ],
   "source": [
    "r.sadd(companiesSet, \"ibm\")"
   ]
  },
  {
   "cell_type": "code",
   "execution_count": 157,
   "metadata": {
    "collapsed": false
   },
   "outputs": [
    {
     "name": "stdout",
     "output_type": "stream",
     "text": [
      "False\n"
     ]
    }
   ],
   "source": [
    "print(companies.find_one({\"company_name\": \"Chakra\"}) is not None)"
   ]
  },
  {
   "cell_type": "markdown",
   "metadata": {},
   "source": [
    "# functions"
   ]
  },
  {
   "cell_type": "markdown",
   "metadata": {},
   "source": [
    "### Operation 1 - Add a new company"
   ]
  },
  {
   "cell_type": "code",
   "execution_count": 158,
   "metadata": {
    "collapsed": false
   },
   "outputs": [],
   "source": [
    "def is_company_exists(company_name):\n",
    "    # check if company name in comapny set on redis\n",
    "    if r.sismember(companiesSet, company_name):\n",
    "        return True\n",
    "    \n",
    "    # if not, verify against mongo\n",
    "    elif companies.find_one({\"company_name\": company_name}) is not None:\n",
    "        return True\n",
    "    \n",
    "    else:\n",
    "        return False\n",
    "    \n",
    "def add_company(company_dict):\n",
    "    # getting dict for the company and insert it to db\n",
    "    if 'company_name' not in company_dict:\n",
    "        raise ValueError(\"company dict must have company_name field\")\n",
    "    else:\n",
    "        company_name = company_dict['company_name']\n",
    "    \n",
    "    # verify that company name is unique\n",
    "    if(is_company_exists(company_name)):\n",
    "        raise ValueError(\"company name already taken\")\n",
    "        \n",
    "    # and then insert to mongo and redis\n",
    "    company_dict['jobs_list'] = [] # initiate jobs list\n",
    "    companies.insert_one(company_dict)\n",
    "    r.sadd(companiesSet, company_dict['company_name'])\n",
    "    print(\"%s Add successfully!\"%(company_name))"
   ]
  },
  {
   "cell_type": "code",
   "execution_count": 159,
   "metadata": {
    "collapsed": false
   },
   "outputs": [
    {
     "name": "stdout",
     "output_type": "stream",
     "text": [
      "TAU Add successfully!\n"
     ]
    },
    {
     "data": {
      "text/plain": [
       "{u'_id': ObjectId('624ad3a08ec14327c9e0147d'),\n",
       " u'company_description': u'University',\n",
       " u'company_name': u'TAU',\n",
       " u'jobs_list': []}"
      ]
     },
     "execution_count": 159,
     "metadata": {},
     "output_type": "execute_result"
    }
   ],
   "source": [
    "add_company({'company_name':'TAU', 'company_description':'University'})\n",
    "\n",
    "### sainity checks\n",
    "r.smembers(companiesSet)\n",
    "companies.find_one({\"company_name\": 'TAU'})"
   ]
  },
  {
   "cell_type": "markdown",
   "metadata": {},
   "source": [
    "### Operation 2 - Add a new job position"
   ]
  },
  {
   "cell_type": "code",
   "execution_count": 160,
   "metadata": {
    "collapsed": false
   },
   "outputs": [],
   "source": [
    "def generate_job_id(job_title):\n",
    "    # based on the hash of creation time and the job title\n",
    "    return hash(str(int(time.time())) + job_title)\n",
    "    \n",
    "def add_job(job_dict, company_name):\n",
    "    \n",
    "    if not (is_company_exists(company_name)):\n",
    "        raise ValueError(\"company doesn't exist\")\n",
    "    \n",
    "    # generate job id and insert to the company object\n",
    "    job_dict['job_id'] = generate_job_id(job_dict['job_title'])\n",
    "    job_dict['application_list'] = [] # initiate application list\n",
    "    companies.update_one({'company_name': company_name}, {'$push': {'jobs_list': job_dict}}, upsert = True)\n",
    "    \n",
    "    r.zincrby(\"oj\",\"%s:%s\"%(job_dict['location'],job_dict['job_title']),1)\n",
    "    \n",
    "    print(\"%s Added to %s jobs successfully!\"%(job_dict['job_id'], company_name))"
   ]
  },
  {
   "cell_type": "code",
   "execution_count": 161,
   "metadata": {
    "collapsed": false
   },
   "outputs": [
    {
     "name": "stdout",
     "output_type": "stream",
     "text": [
      "2719542033754339198 Added to TAU jobs successfully!\n"
     ]
    }
   ],
   "source": [
    "add_job({'job_title':'bi developer', 'location': 'Tel Aviv',\n",
    "'requirements':['python','big data','mongodb'],\n",
    "'status':'open','publish_date':'01-02-2020'},'TAU')"
   ]
  },
  {
   "cell_type": "code",
   "execution_count": 162,
   "metadata": {
    "collapsed": false
   },
   "outputs": [
    {
     "name": "stdout",
     "output_type": "stream",
     "text": [
      "{u'jobs_list': [{u'status': u'open', u'requirements': [u'python', u'big data', u'mongodb'], u'job_id': 2719542033754339198L, u'application_list': [], u'publish_date': u'01-02-2020', u'location': u'Tel Aviv', u'job_title': u'bi developer'}], u'_id': ObjectId('624ad3a08ec14327c9e0147d'), u'company_name': u'TAU', u'company_description': u'University'}\n",
      "##########\n",
      "[('Tel Aviv:bi developer', 1.0)]\n"
     ]
    }
   ],
   "source": [
    "### sainity checks\n",
    "print(companies.find_one({\"company_name\": 'TAU'}))\n",
    "print(\"##########\")\n",
    "print(r.zrevrange('oj', 0, -1, withscores=True))"
   ]
  },
  {
   "cell_type": "markdown",
   "metadata": {},
   "source": [
    "### Operation 3: Add a new application\n",
    "\n",
    "- A candidate can apply when the job Status is *open*\n",
    "- A candidate can apply only once to the same job\n",
    "- The Candidate Email should be unique for a given candidate"
   ]
  },
  {
   "cell_type": "code",
   "execution_count": 163,
   "metadata": {
    "collapsed": false
   },
   "outputs": [
    {
     "ename": "SyntaxError",
     "evalue": "invalid syntax (<ipython-input-163-074ece7cd628>, line 17)",
     "output_type": "error",
     "traceback": [
      "\u001b[0;36m  File \u001b[0;32m\"<ipython-input-163-074ece7cd628>\"\u001b[0;36m, line \u001b[0;32m17\u001b[0m\n\u001b[0;31m    if\u001b[0m\n\u001b[0m      ^\u001b[0m\n\u001b[0;31mSyntaxError\u001b[0m\u001b[0;31m:\u001b[0m invalid syntax\n"
     ]
    }
   ],
   "source": [
    "def new_application(candidate, application_time, job_id, company_name):\n",
    "    job = db.companies.find_one(\n",
    "         { \n",
    "             \"company_name\": company_name,\n",
    "             \"jobs_list\": \n",
    "                 { \n",
    "                   \"$elemMatch\": \n",
    "                       { 'job_id': job_id }\n",
    "                 }\n",
    "         }\n",
    "    )\n",
    "    \n",
    "    \n",
    "    if job['is_open'] == 0:\n",
    "        print(\"sorry, this job is already taken :(\")\n",
    "        return -1\n",
    "    if\n",
    "    \n",
    "    "
   ]
  },
  {
   "cell_type": "code",
   "execution_count": 164,
   "metadata": {
    "collapsed": false
   },
   "outputs": [
    {
     "ename": "NameError",
     "evalue": "name 'new_application' is not defined",
     "output_type": "error",
     "traceback": [
      "\u001b[0;31m---------------------------------------------------------------------------\u001b[0m",
      "\u001b[0;31mNameError\u001b[0m                                 Traceback (most recent call last)",
      "\u001b[0;32m<ipython-input-164-13ce93c614c6>\u001b[0m in \u001b[0;36m<module>\u001b[0;34m()\u001b[0m\n\u001b[0;32m----> 1\u001b[0;31m new_application({'candidate_name':'laura', 'email':'laura@gmail.com',\n\u001b[0m\u001b[1;32m      2\u001b[0m 'linkedin':'https://www.linkedin.com/in/laura/', skills: ['python','sql']},\n\u001b[1;32m      3\u001b[0m '01-02-2020 15:00:00', '1','TAU')\n",
      "\u001b[0;31mNameError\u001b[0m: name 'new_application' is not defined"
     ]
    }
   ],
   "source": [
    "new_application({'candidate_name':'laura', 'email':'laura@gmail.com',\n",
    "'linkedin':'https://www.linkedin.com/in/laura/', skills: ['python','sql']},\n",
    "'01-02-2020 15:00:00', '1','TAU')"
   ]
  },
  {
   "cell_type": "code",
   "execution_count": 185,
   "metadata": {
    "collapsed": false
   },
   "outputs": [
    {
     "data": {
      "text/plain": [
       "{u'_id': ObjectId('624ad3a08ec14327c9e0147d'),\n",
       " u'company_description': u'University',\n",
       " u'company_name': u'TAU',\n",
       " u'hello': u'world',\n",
       " u'jobs_list': [{u'1': u'world',\n",
       "   u'application_list': [],\n",
       "   u'job_id': 2719542033754339198L,\n",
       "   u'job_title': u'bi developer',\n",
       "   u'location': u'Tel Aviv',\n",
       "   u'publish_date': u'01-02-2020',\n",
       "   u'requirements': [u'python', u'big data', u'mongodb'],\n",
       "   u'status': u'open'}]}"
      ]
     },
     "execution_count": 185,
     "metadata": {},
     "output_type": "execute_result"
    }
   ],
   "source": [
    "db.companies.find_one(\n",
    "         { \n",
    "             \"company_name\": 'TAU',\n",
    "             \"jobs_list\": \n",
    "                 { \n",
    "                   \"$elemMatch\": \n",
    "                       { 'job_id': 2719542033754339198L }\n",
    "                 }\n",
    "         }\n",
    "    )"
   ]
  },
  {
   "cell_type": "code",
   "execution_count": 187,
   "metadata": {
    "collapsed": false
   },
   "outputs": [
    {
     "ename": "SyntaxError",
     "evalue": "invalid syntax (<ipython-input-187-e012b0898992>, line 8)",
     "output_type": "error",
     "traceback": [
      "\u001b[0;36m  File \u001b[0;32m\"<ipython-input-187-e012b0898992>\"\u001b[0;36m, line \u001b[0;32m8\u001b[0m\n\u001b[0;31m    }, {\"$addToSet\": {\"tags\": \"camera\"}, upsert = True)\u001b[0m\n\u001b[0m                                                ^\u001b[0m\n\u001b[0;31mSyntaxError\u001b[0m\u001b[0;31m:\u001b[0m invalid syntax\n"
     ]
    }
   ],
   "source": [
    "companies.update_one({ \n",
    "             \"company_name\": 'TAU',\n",
    "             \"jobs_list\": \n",
    "                 { \n",
    "                   \"$elemMatch\": \n",
    "                       { 'job_id': 2719542033754339198L }\n",
    "                 }\n",
    "         }, {\"$addToSet\": {\"application_list\": \"camera\"}, upsert = True)"
   ]
  },
  {
   "cell_type": "code",
   "execution_count": null,
   "metadata": {
    "collapsed": true
   },
   "outputs": [],
   "source": []
  }
 ],
 "metadata": {
  "kernelspec": {
   "display_name": "Python 2",
   "language": "python",
   "name": "python2"
  },
  "language_info": {
   "codemirror_mode": {
    "name": "ipython",
    "version": 2
   },
   "file_extension": ".py",
   "mimetype": "text/x-python",
   "name": "python",
   "nbconvert_exporter": "python",
   "pygments_lexer": "ipython2",
   "version": "2.7.15"
  }
 },
 "nbformat": 4,
 "nbformat_minor": 2
}
