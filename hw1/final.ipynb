{
 "cells": [
  {
   "cell_type": "markdown",
   "metadata": {},
   "source": [
    "# Big Data HW1\n",
    "April 2022 <br>\n",
    "Efrat Levy, Edan Shahmoon, Ilan Vasilevsky "
   ]
  },
  {
   "cell_type": "code",
   "execution_count": 65,
   "metadata": {},
   "outputs": [],
   "source": [
    "import redis\n",
    "from pymongo import MongoClient\n",
    "from pymongo.errors import ConnectionFailure\n",
    "import time\n",
    "from datetime import datetime,timedelta\n",
    "import pandas as pd"
   ]
  },
  {
   "cell_type": "markdown",
   "metadata": {},
   "source": [
    "# Setup\n",
    "functions for connecting and setting up the databases "
   ]
  },
  {
   "cell_type": "code",
   "execution_count": 66,
   "metadata": {},
   "outputs": [],
   "source": [
    "current_env = 'production' # 'docker' for development on docker, 'production' for real server\n",
    "current_user = 'stud10'\n",
    "ENV = {\"docker\": '172.17.0.1',\"production\":'bdl1.eng.tau.ac.il'}\n",
    "companiesSet = current_user+\":company:names\"\n",
    "open_jobs = current_user+\":oj:\"\n",
    "cand_app_set = current_user+\":candidate_application\"\n",
    "redis_db_num = 10"
   ]
  },
  {
   "cell_type": "markdown",
   "metadata": {},
   "source": [
    "### Connections"
   ]
  },
  {
   "cell_type": "code",
   "execution_count": 67,
   "metadata": {},
   "outputs": [],
   "source": [
    "def connect_to_redis(db_num=redis_db_num,port=6379):\n",
    "    # We connect to redis on a specific database (db_num) to not interuprt other students\n",
    "    r = redis.StrictRedis(host=ENV[current_env], port=port, socket_connect_timeout=10,db=db_num)\n",
    "    r.ping() # send ping to verify that a connection established to redis\n",
    "    print('connected to redis on \"{}\", port {}'.format(ENV[current_env], port)) \n",
    "    return r\n",
    "\n",
    "def connect_to_mongo(port=27017):\n",
    "    if current_env == 'docker':\n",
    "        client = MongoClient(host=ENV[current_env],port=port, connectTimeoutMS=10000)\n",
    "        # client.admin.command('ping') # try to ping mongo server\n",
    "        print('connected to MongoDB on \"{}\", port {}'.format(ENV[current_env], port))\n",
    "    \n",
    "    elif current_env == 'production':\n",
    "        client = MongoClient()\n",
    "    return client\n"
   ]
  },
  {
   "cell_type": "markdown",
   "metadata": {},
   "source": [
    "### Initializiation "
   ]
  },
  {
   "cell_type": "code",
   "execution_count": 68,
   "metadata": {},
   "outputs": [],
   "source": [
    "def setup_mongo(client):\n",
    "    db = client[current_user]\n",
    "    companies = db.companies\n",
    "    print(\"companies collection created in {} db\".format(current_user))\n",
    "    return db, companies\n",
    "\n",
    "def reset_redis(r):\n",
    "    r.flushdb()\n",
    "    print('redis database number {} is clean'.format(redis_db_num))\n",
    "\n",
    "def reset_mongo(client):\n",
    "    client[current_user].companies.drop()\n",
    "    print(\"mongo is clean\")\n",
    "\n",
    "def restart():\n",
    "    # connect to dbs\n",
    "    r = connect_to_redis()\n",
    "    client = connect_to_mongo()\n",
    "    # clean dbs\n",
    "    reset_redis(r)\n",
    "    reset_mongo(client)\n",
    "    # setup the databases\n",
    "    db, companies = setup_mongo(client)\n",
    "    print(\"restart completed\")\n",
    "    return r, client, db, companies"
   ]
  },
  {
   "cell_type": "markdown",
   "metadata": {},
   "source": [
    "# Operation 1 - Add a new company\n",
    "We save the company names in Redis for the time efficiency of this operation. The function does the following: <br>\n",
    "- Checks if company name  exists in redis\n",
    "- If not, checks if the company exists in Mongo\n",
    "- If not, the company does not exist so we save the new company to the database."
   ]
  },
  {
   "cell_type": "code",
   "execution_count": 69,
   "metadata": {},
   "outputs": [],
   "source": [
    "def is_company_exists(r, companies, company_name):\n",
    "    # check if company name in comapny set on redis\n",
    "    if r.sismember(companiesSet, company_name):\n",
    "        return True\n",
    "    \n",
    "    # if not, verify against mongo\n",
    "    elif companies.find_one({\"company_name\": company_name}) is not None:\n",
    "        return True\n",
    "    \n",
    "    else:\n",
    "        return False\n",
    "    \n",
    "def add_company(company_dict,r=None, companies=None):\n",
    "    if r is None:\n",
    "        r = connect_to_redis()\n",
    "    if companies is None:\n",
    "        companies = connect_to_mongo()[current_user].companies\n",
    "        \n",
    "    # getting dict for the company and insert it to db\n",
    "    if 'company_name' not in company_dict:\n",
    "        # raise ValueError(\"company dict must have company_name field\") #no errors allowed\n",
    "        print(\"company dict must have company_name field, no changes were commited to db\")\n",
    "        return None\n",
    "\n",
    "    else:\n",
    "        company_name = company_dict['company_name']\n",
    "    \n",
    "    # verify that company name is unique\n",
    "    if(is_company_exists(r, companies, company_name)):\n",
    "        # raise ValueError(\"company name already taken\") #no errors allowed\n",
    "        print(\"company name already taken, no changes were commited to db\")\n",
    "        return None\n",
    "        \n",
    "    # and then insert to mongo and redis\n",
    "    company_dict['jobs_list'] = [] # initiate jobs list\n",
    "    companies.insert_one(company_dict)\n",
    "    r.sadd(companiesSet, company_dict['company_name'])\n",
    "    print(\"%s Added successfully!\"%(company_name))"
   ]
  },
  {
   "cell_type": "markdown",
   "metadata": {},
   "source": [
    "# Operation 2 - Add a new job position\n",
    "For time efficiency of operation 6 - we keep the number of open jobs in Redis in a `key:value` format. The key is `location:job title`. <br> This function does the following: <br>\n",
    "- checks if company exists\n",
    "- Mongo update: adds job to mongo database\n",
    "- Redis Update: if the job status is open, increase the value for key location:title by 1. If the key doesn't exist, it creates it and sets the value to 1."
   ]
  },
  {
   "cell_type": "code",
   "execution_count": 70,
   "metadata": {},
   "outputs": [],
   "source": [
    "def generate_job_id(companies, company_name):\n",
    "    match = {'$match' : {'company_name':company_name}}\n",
    "    project = {'$project': { 'max_id': { '$size':'$jobs_list' }}}\n",
    "    res = companies.aggregate([match,project])\n",
    "    return list(res)[0]['max_id'] + 1\n",
    "\n",
    "def add_job(job_dict, company_name, r=None, companies=None):\n",
    "    # ASSUMPTION: there is no option to delete jobs (so counting jobs can be used to generate job id)\n",
    "    if r is None:\n",
    "        r = connect_to_redis()\n",
    "    if companies is None:\n",
    "        companies = connect_to_mongo()[current_user].companies\n",
    "    if not (is_company_exists(r, companies, company_name)):\n",
    "        print(\"company doesn't exist\")\n",
    "        return\n",
    "    \n",
    "    # generate job id and insert to the company object\n",
    "    job_dict['job_id'] = generate_job_id(companies, company_name)\n",
    "    job_dict['application_list'] = [] # initiate application list\n",
    "    companies.update_one({'company_name': company_name}, {'$push': {'jobs_list': job_dict}}, upsert = True)\n",
    "    # add job to redis\n",
    "    if job_dict['status'] == 'open':\n",
    "        title = job_dict['job_title']\n",
    "        location = job_dict['location']\n",
    "        key_string = open_jobs + \"%s:%s\"%(location,title)\n",
    "        res = r.incr(key_string)\n",
    "        print('There are now {} open jobs for: {} in {}'.format(res,title,location))\n",
    "    \n",
    "    print(\"job with id %s was added to %s jobs successfully!\"%(job_dict['job_id'], company_name))"
   ]
  },
  {
   "cell_type": "markdown",
   "metadata": {},
   "source": [
    "# Operation 3 - Add a new application\n",
    "For time efficiency of operation 5 - we keep the applications of each candidate in a Redis sorted set, where the key is email and the value is a unix timestamp (for time comparisons). <br>\n",
    "This function does the following:\n",
    "- Check if job is open\n",
    "- If open, check if the candidate didn't already submit an application\n",
    "- If it is a new candidate, create new application in mongo, and update corresponding key with "
   ]
  },
  {
   "cell_type": "code",
   "execution_count": 71,
   "metadata": {},
   "outputs": [],
   "source": [
    "def is_job_open(companies, company_name, job_id):\n",
    "    res = companies.find_one(\n",
    "        { \n",
    "            \"company_name\": company_name,\n",
    "        },\n",
    "        { \"jobs_list\": { \"$elemMatch\": { \"job_id\": int(job_id), \"status\": \"open\" }}}\n",
    "    )\n",
    "    return('jobs_list' in res)\n",
    "\n",
    "def is_already_submitted(companies, company_name, job_id, email):\n",
    "    res = companies.find_one(\n",
    "        { \n",
    "            \"company_name\": company_name,\n",
    "        },\n",
    "        { \"jobs_list\": { \"$elemMatch\": { \"job_id\": int(job_id), \"application_list\": {\"$elemMatch\": {'email':email}} }}}\n",
    "    )\n",
    "    return('jobs_list' in res) # if mail doesn't exists an empty object will returned\n",
    "\n",
    "def new_application(candidate, application_time, job_id, company_name, r=None, companies=None):\n",
    "    if r is None:\n",
    "        r = connect_to_redis()\n",
    "    if companies is None:\n",
    "        companies = connect_to_mongo()[current_user].companies\n",
    "\n",
    "    if (not is_job_open(companies, company_name, job_id)):\n",
    "        print(\"you are trying to apply to a closed job\")\n",
    "        return -1\n",
    "\n",
    "    if (is_already_submitted(companies, company_name, job_id, candidate['email'])):\n",
    "        print(\"you have already sent application for this job\")\n",
    "        return -2\n",
    "\n",
    "    # update in mongo\n",
    "    d = datetime.strptime(application_time, \"%d-%m-%Y %H:%M:%S\")\n",
    "    candidate['application_date'] = d\n",
    "    companies.update_one({\"company_name\": company_name,\"jobs_list\": {\"$elemMatch\":{\"job_id\":int(job_id)}}},{'$push':{'jobs_list.$.application_list':candidate}})\n",
    "\n",
    "    #update in redis\n",
    "    unix_d = time.mktime(d.timetuple())\n",
    "    #check if company already exists in redis\n",
    "    key_string = \"candidate_applications:{}\".format(candidate['email'])\n",
    "    comps = r.zrange(key_string,0,-1,withscores=True)\n",
    "    comp = [x for x in comps if x[0]==company_name]\n",
    "    # if comany already exists - change vlaue to most recent date\n",
    "    if len(comp)>0:\n",
    "        old_timestamp = comp[0][1]\n",
    "        if unix_d>old_timestamp:\n",
    "            r.zadd(key_string,unix_d,company_name)\n",
    "    else:\n",
    "        r.zadd(key_string,unix_d,company_name)\n",
    "        \n",
    "    print(\"{} submited application for job number {} at {}\".format(candidate['candidate_name'],job_id, company_name))\n",
    "    return 1"
   ]
  },
  {
   "cell_type": "markdown",
   "metadata": {},
   "source": [
    "# Operation 4 - Update job status"
   ]
  },
  {
   "cell_type": "code",
   "execution_count": 72,
   "metadata": {},
   "outputs": [],
   "source": [
    "def update_job_status(company_name, job_id, new_status, r=None, companies=None):\n",
    "    res = companies.aggregate([\n",
    "    { \"$unwind\": \"$jobs_list\"},\n",
    "    { \"$match\": {\"jobs_list.job_id\": 1, 'company_name':'TAU'}},\n",
    "    { \"$project\": { \"jobs_list.status\" : 1, 'jobs_list.location': 1, 'jobs_list.job_title': 1}}\n",
    "    ])\n",
    "\n",
    "    for job in res:\n",
    "        old_status = job['jobs_list']['status']\n",
    "        location = job['jobs_list']['location']\n",
    "        job_title = job['jobs_list']['job_title']\n",
    "    \n",
    "    #update redis\n",
    "    key_string = open_jobs + \"%s:%s\"%(location,job_title)\n",
    "    if old_status == 'open' and new_status == 'close':\n",
    "        res = r.decr(key_string)\n",
    "    \n",
    "    elif new_status == 'open' and old_status == 'close':\n",
    "        res = r.incr(key_string)\n",
    "    \n",
    "    #update mongo\n",
    "    companies.update_one(\n",
    "        {\"company_name\": company_name,\n",
    "        \"jobs_list\": {\n",
    "            \"$elemMatch\":{\"job_id\":int(job_id)}}}, \n",
    "        {'$set':{'jobs_list.$.status':new_status}}\n",
    "        )\n",
    "    \n",
    "    print(\"job number: {} at {} is now: {}\".format(job_id, company_name, new_status))\n",
    "    print('There are now {} open jobs for: {} in {}'.format(res, job_title,location))\n",
    "    return res"
   ]
  },
  {
   "cell_type": "markdown",
   "metadata": {},
   "source": [
    "# Operation 5 - show latest companies"
   ]
  },
  {
   "cell_type": "code",
   "execution_count": 73,
   "metadata": {},
   "outputs": [],
   "source": [
    "def show_latest_10_companies(candidate_email):\n",
    "    key_string = \"candidate_applications:{}\".format(candidate_email)\n",
    "    return r.zrevrange(key_string, 0, 9, withscores=False)"
   ]
  },
  {
   "cell_type": "markdown",
   "metadata": {},
   "source": [
    "# Operation 6 - show number of open jobs"
   ]
  },
  {
   "cell_type": "code",
   "execution_count": 74,
   "metadata": {},
   "outputs": [],
   "source": [
    "def show_number_of_jobs(location,title):\n",
    "    key_string = open_jobs + \"%s:%s\"%(location,title)\n",
    "    result = r.get(key_string)\n",
    "    return(int(result or 0))"
   ]
  },
  {
   "cell_type": "code",
   "execution_count": 75,
   "metadata": {},
   "outputs": [
    {
     "data": {
      "text/plain": [
       "0"
      ]
     },
     "execution_count": 75,
     "metadata": {},
     "output_type": "execute_result"
    }
   ],
   "source": [
    "value = None\n",
    "int(value or 0)"
   ]
  },
  {
   "cell_type": "markdown",
   "metadata": {},
   "source": [
    "# Report 1\n",
    "This functions returns a pandas DataFrame with number of open and closed jobs, for each company. It is using the Mongo database for this purpose. <br>\n",
    "We tried sorting values in mongo instead of in pandas, but it didn't work properly. We believe it is due to old version of mongo. We left commented code in solution so you can see we tried."
   ]
  },
  {
   "cell_type": "code",
   "execution_count": 76,
   "metadata": {},
   "outputs": [],
   "source": [
    "def count_jobs_by_company():\n",
    "    project = {\n",
    "    '$project':{\n",
    "        'company_name':1,\n",
    "        '_id':0,\n",
    "        'open_jobs':{\n",
    "            '$size':{\n",
    "                '$filter' :{\n",
    "                    'input': '$jobs_list',\n",
    "                    'as':'oj',\n",
    "                    'cond':{'$eq':['$$oj.status','open']}\n",
    "                    }\n",
    "                }\n",
    "            },\n",
    "        'closed_jobs':{\n",
    "            '$size':{\n",
    "                '$filter' :{\n",
    "                    'input': '$jobs_list',\n",
    "                    'as':'cj',\n",
    "                    'cond':{'$eq':['$$cj.status','close']}\n",
    "                    }\n",
    "                }\n",
    "            }\n",
    "        }\n",
    "    }\n",
    "    # sort1 = {'$sort':{'open_jobs':-1,'closed_jobs':-1}} #this doesn't work as expected\n",
    "    # res = companies.aggregate([project,sort])\n",
    "    res = companies.aggregate([project])\n",
    "    df = pd.DataFrame(list(res))\n",
    "    \n",
    "    try:\n",
    "        # arange column names for aesthitcal reasons \n",
    "        ordered_cols = ['company_name','open_jobs','closed_jobs']\n",
    "        df = df[ordered_cols]\n",
    "        # sort values\n",
    "        df.sort_values(by=['open_jobs','closed_jobs'],ascending=False,inplace=True)\n",
    "    except KeyError:\n",
    "        print('No job at any company exists - no records returned')\n",
    "        return None\n",
    "    \n",
    "    return df"
   ]
  },
  {
   "cell_type": "markdown",
   "metadata": {},
   "source": [
    "# Report 2\n",
    "This functions returns a pandas DataFrame with number of candidates for each job. It is using the Mongo database for this purpose."
   ]
  },
  {
   "cell_type": "code",
   "execution_count": 78,
   "metadata": {},
   "outputs": [],
   "source": [
    "def count_candidates_by_job():\n",
    "    today = datetime.now()\n",
    "    from_date = today - timedelta(days=20)\n",
    "    match = {'$match':{'company_name':'TAU'}}\n",
    "    unwind_jobs = {'$unwind':'$jobs_list'}\n",
    "    unwind_apps = {'$unwind':'$jobs_list.application_list'}\n",
    "    match_date =   {'$match':{\n",
    "        'jobs_list.application_list.application_date':{\n",
    "            '$gte': from_date\n",
    "        }\n",
    "    }}\n",
    "    group = {'$group':{'_id':'$jobs_list.job_id','applications':{'$sum':1}}}\n",
    "    res = companies.aggregate([match,unwind_jobs,unwind_apps,match_date,group])\n",
    "    #Convert result to dataframe \n",
    "    df = pd.DataFrame(list(res))\n",
    "    df.rename(columns={'_id':'job_id'},inplace=True)\n",
    "    return df"
   ]
  },
  {
   "cell_type": "markdown",
   "metadata": {},
   "source": [
    "# Recovery"
   ]
  },
  {
   "cell_type": "code",
   "execution_count": 132,
   "metadata": {},
   "outputs": [],
   "source": [
    "def recovery():\n",
    "    r = connect_to_redis()\n",
    "    companies_list = list(companies.find())\n",
    "    c = len(companies_list)\n",
    "    j = 0\n",
    "    a = 0\n",
    "    for comp in companies_list:\n",
    "        company_name = comp['company_name']\n",
    "        for job in comp['jobs_list']:\n",
    "                j+=1\n",
    "                status = job['status']\n",
    "                location = job['location']\n",
    "                job_title = job['job_title']\n",
    "                if status == 'open':\n",
    "                    key_string = open_jobs + \"%s:%s\"%(location,job_title)\n",
    "                    r.incr(key_string)\n",
    "\n",
    "                applications = job['application_list']\n",
    "\n",
    "                for app in applications:\n",
    "                    a+=1\n",
    "                    email = app['email']\n",
    "                    application_date = app['application_date']\n",
    "\n",
    "                    unix_d = time.mktime(application_date.timetuple())\n",
    "                    key_string = \"candidate_applications:{}\".format(email)\n",
    "                    r.zadd(key_string, unix_d, company_name)\n",
    "    \n",
    "    return {'comapnies':c,'jobs':j,'applications':a}"
   ]
  },
  {
   "cell_type": "markdown",
   "metadata": {},
   "source": [
    "# Run all operations"
   ]
  },
  {
   "cell_type": "code",
   "execution_count": 126,
   "metadata": {},
   "outputs": [],
   "source": [
    "def execute():\n",
    "    print('Initialization')\n",
    "    print('--------------------------------')\n",
    "    #connection\n",
    "    r = connect_to_redis(redis_db_num)\n",
    "    client = connect_to_mongo()\n",
    "\n",
    "    # clean the databases\n",
    "    reset_redis(r)\n",
    "    reset_mongo(client)\n",
    "\n",
    "    # setup the databases\n",
    "    db, companies = setup_mongo(client)\n",
    "    print('--------------------------------')\n",
    "    print\n",
    "    print('Operation 1 - Add a new company')\n",
    "    print('--------------------------------')\n",
    "    add_company({'company_name':'TAU', 'company_description':'University'}, r=r, companies=companies)\n",
    "\n",
    "    print\n",
    "    print('Operation 2 - Add a new job position')\n",
    "    print('--------------------------------')\n",
    "    add_job({'job_title':'bi developer', 'location': 'Tel Aviv','requirements':['python','big data','mongodb'],'status':'open','publish_date':'01-02-2020'},'TAU', r=r, companies=companies)"
   ]
  },
  {
   "cell_type": "code",
   "execution_count": 127,
   "metadata": {},
   "outputs": [
    {
     "name": "stdout",
     "output_type": "stream",
     "text": [
      "Initialization\n",
      "--------------------------------\n",
      "connected to redis on \"bdl1.eng.tau.ac.il\", port 6379\n",
      "redis database number 10 is clean\n",
      "mongo is clean\n",
      "companies collection created in stud10 db\n",
      "--------------------------------\n",
      "\n",
      "Operation 1 - Add a new company\n",
      "--------------------------------\n",
      "TAU Added successfully!\n",
      "\n",
      "Operation 2 - Add a new job position\n",
      "--------------------------------\n",
      "There are now 1 open jobs for: bi developer in Tel Aviv\n",
      "job with id 1 was added to TAU jobs successfully!\n"
     ]
    }
   ],
   "source": [
    "execute()"
   ]
  },
  {
   "cell_type": "code",
   "execution_count": 80,
   "metadata": {},
   "outputs": [
    {
     "name": "stdout",
     "output_type": "stream",
     "text": [
      "connected to redis on \"bdl1.eng.tau.ac.il\", port 6379\n",
      "redis database number 10 is clean\n",
      "mongo is clean\n",
      "companies collection created in stud10 db\n"
     ]
    }
   ],
   "source": [
    "r = connect_to_redis(redis_db_num)\n",
    "client = connect_to_mongo()\n",
    "\n",
    "# clean the databases\n",
    "reset_redis(r)\n",
    "reset_mongo(client)\n",
    "\n",
    "# setup the databases\n",
    "db, companies = setup_mongo(client)"
   ]
  },
  {
   "cell_type": "code",
   "execution_count": 81,
   "metadata": {},
   "outputs": [
    {
     "name": "stdout",
     "output_type": "stream",
     "text": [
      "TAU Added successfully!\n"
     ]
    }
   ],
   "source": [
    "# Operation 1 - Add a new company\n",
    "add_company({'company_name':'TAU', 'company_description':'University'}, r=r, companies=companies)"
   ]
  },
  {
   "cell_type": "code",
   "execution_count": 82,
   "metadata": {},
   "outputs": [
    {
     "name": "stdout",
     "output_type": "stream",
     "text": [
      "There are now 1 open jobs for: bi developer in Tel Aviv\n",
      "job with id 1 was added to TAU jobs successfully!\n"
     ]
    }
   ],
   "source": [
    "# Operation 2 - Add a new job position\n",
    "add_job({'job_title':'bi developer', 'location': 'Tel Aviv','requirements':['python','big data','mongodb'],'status':'open','publish_date':'01-02-2020'},'TAU', r=r, companies=companies)"
   ]
  },
  {
   "cell_type": "code",
   "execution_count": 83,
   "metadata": {},
   "outputs": [
    {
     "name": "stdout",
     "output_type": "stream",
     "text": [
      "laura submited application for job number 1 at TAU\n"
     ]
    },
    {
     "data": {
      "text/plain": [
       "1"
      ]
     },
     "execution_count": 83,
     "metadata": {},
     "output_type": "execute_result"
    }
   ],
   "source": [
    "# Operation 3 - Add a new application\n",
    "new_application({'candidate_name':'laura', 'email':'laura@gmail.com','linkedin':'https://www.linkedin.com/in/laura/', 'skills': ['python','sql']},'01-02-2020 15:00:00', '1','TAU', r=r, companies=companies)"
   ]
  },
  {
   "cell_type": "code",
   "execution_count": 84,
   "metadata": {},
   "outputs": [
    {
     "name": "stdout",
     "output_type": "stream",
     "text": [
      "job number: 1 at TAU is now: close\n",
      "There are now 0 open jobs for: bi developer in Tel Aviv\n"
     ]
    },
    {
     "data": {
      "text/plain": [
       "0"
      ]
     },
     "execution_count": 84,
     "metadata": {},
     "output_type": "execute_result"
    }
   ],
   "source": [
    "# Operation 4 - Update job status\n",
    "update_job_status('TAU','1','close', r=r, companies=companies)"
   ]
  },
  {
   "cell_type": "code",
   "execution_count": 101,
   "metadata": {},
   "outputs": [
    {
     "data": {
      "text/plain": [
       "['TAU']"
      ]
     },
     "execution_count": 101,
     "metadata": {},
     "output_type": "execute_result"
    }
   ],
   "source": [
    "show_latest_10_companies('laura@gmail.com')"
   ]
  },
  {
   "cell_type": "code",
   "execution_count": 102,
   "metadata": {},
   "outputs": [
    {
     "data": {
      "text/plain": [
       "1"
      ]
     },
     "execution_count": 102,
     "metadata": {},
     "output_type": "execute_result"
    }
   ],
   "source": [
    "show_number_of_jobs('Tel Aviv','python developer')"
   ]
  },
  {
   "cell_type": "code",
   "execution_count": 136,
   "metadata": {},
   "outputs": [
    {
     "name": "stdout",
     "output_type": "stream",
     "text": [
      "nahum\n"
     ]
    },
    {
     "data": {
      "text/html": [
       "<div>\n",
       "<style scoped>\n",
       "    .dataframe tbody tr th:only-of-type {\n",
       "        vertical-align: middle;\n",
       "    }\n",
       "\n",
       "    .dataframe tbody tr th {\n",
       "        vertical-align: top;\n",
       "    }\n",
       "\n",
       "    .dataframe thead th {\n",
       "        text-align: right;\n",
       "    }\n",
       "</style>\n",
       "<table border=\"1\" class=\"dataframe\">\n",
       "  <thead>\n",
       "    <tr style=\"text-align: right;\">\n",
       "      <th></th>\n",
       "      <th>company_name</th>\n",
       "      <th>open_jobs</th>\n",
       "      <th>closed_jobs</th>\n",
       "    </tr>\n",
       "  </thead>\n",
       "  <tbody>\n",
       "    <tr>\n",
       "      <th>0</th>\n",
       "      <td>TAU</td>\n",
       "      <td>2</td>\n",
       "      <td>0</td>\n",
       "    </tr>\n",
       "  </tbody>\n",
       "</table>\n",
       "</div>"
      ],
      "text/plain": [
       "  company_name  open_jobs  closed_jobs\n",
       "0          TAU          2            0"
      ]
     },
     "metadata": {},
     "output_type": "display_data"
    }
   ],
   "source": [
    "moti = count_jobs_by_company()\n",
    "print 'nahum'\n",
    "display(moti)"
   ]
  },
  {
   "cell_type": "code",
   "execution_count": 135,
   "metadata": {},
   "outputs": [
    {
     "data": {
      "text/html": [
       "<div>\n",
       "<style scoped>\n",
       "    .dataframe tbody tr th:only-of-type {\n",
       "        vertical-align: middle;\n",
       "    }\n",
       "\n",
       "    .dataframe tbody tr th {\n",
       "        vertical-align: top;\n",
       "    }\n",
       "\n",
       "    .dataframe thead th {\n",
       "        text-align: right;\n",
       "    }\n",
       "</style>\n",
       "<table border=\"1\" class=\"dataframe\">\n",
       "  <thead>\n",
       "    <tr style=\"text-align: right;\">\n",
       "      <th></th>\n",
       "      <th>job_id</th>\n",
       "      <th>applications</th>\n",
       "    </tr>\n",
       "  </thead>\n",
       "  <tbody>\n",
       "    <tr>\n",
       "      <th>0</th>\n",
       "      <td>2</td>\n",
       "      <td>2</td>\n",
       "    </tr>\n",
       "  </tbody>\n",
       "</table>\n",
       "</div>"
      ],
      "text/plain": [
       "   job_id  applications\n",
       "0       2             2"
      ]
     },
     "execution_count": 135,
     "metadata": {},
     "output_type": "execute_result"
    }
   ],
   "source": [
    "count_candidates_by_job()"
   ]
  },
  {
   "cell_type": "markdown",
   "metadata": {},
   "source": [
    "# Tests "
   ]
  },
  {
   "cell_type": "code",
   "execution_count": 133,
   "metadata": {},
   "outputs": [
    {
     "name": "stdout",
     "output_type": "stream",
     "text": [
      "redis database number 10 is clean\n"
     ]
    }
   ],
   "source": [
    "reset_redis(r)"
   ]
  },
  {
   "cell_type": "code",
   "execution_count": 134,
   "metadata": {},
   "outputs": [
    {
     "name": "stdout",
     "output_type": "stream",
     "text": [
      "connected to redis on \"bdl1.eng.tau.ac.il\", port 6379\n"
     ]
    },
    {
     "data": {
      "text/plain": [
       "{'applications': 3, 'comapnies': 1, 'jobs': 2}"
      ]
     },
     "execution_count": 134,
     "metadata": {},
     "output_type": "execute_result"
    }
   ],
   "source": [
    "recovery()"
   ]
  },
  {
   "cell_type": "code",
   "execution_count": 129,
   "metadata": {},
   "outputs": [
    {
     "name": "stdout",
     "output_type": "stream",
     "text": [
      "There are now 1 open jobs for: python developer in Tel Aviv\n",
      "job with id 2 was added to TAU jobs successfully!\n"
     ]
    }
   ],
   "source": [
    "add_job({'job_title':'python developer', 'location': 'Tel Aviv','requirements':['python','big data','mongodb'],'status':'open','publish_date':'01-03-2022'},'TAU', r=r, companies=companies)"
   ]
  },
  {
   "cell_type": "code",
   "execution_count": 130,
   "metadata": {},
   "outputs": [
    {
     "name": "stdout",
     "output_type": "stream",
     "text": [
      "itzik submited application for job number 2 at TAU\n",
      "nahum submited application for job number 2 at TAU\n",
      "moshe submited application for job number 2 at TAU\n"
     ]
    },
    {
     "data": {
      "text/plain": [
       "1"
      ]
     },
     "execution_count": 130,
     "metadata": {},
     "output_type": "execute_result"
    }
   ],
   "source": [
    "new_application({'candidate_name':'itzik', 'email':'itzik@gmail.com','linkedin':'https://www.linkedin.com/in/laura/', 'skills': ['python','sql']},'01-04-2022 15:00:00', '2','TAU', r=r, companies=companies)\n",
    "\n",
    "new_application({'candidate_name':'nahum', 'email':'nahum@gmail.com','linkedin':'https://www.linkedin.com/in/laura/', 'skills': ['python','sql']},'10-04-2022 15:00:00', '2','TAU', r=r, companies=companies)\n",
    "\n",
    "new_application({'candidate_name':'moshe', 'email':'moshe@gmail.com','linkedin':'https://www.linkedin.com/in/laura/', 'skills': ['python','sql']},'15-04-2022 15:00:00', '2','TAU', r=r, companies=companies)"
   ]
  },
  {
   "cell_type": "code",
   "execution_count": 121,
   "metadata": {},
   "outputs": [
    {
     "data": {
      "text/plain": [
       "[{u'_id': 2, u'apps': 2}]"
      ]
     },
     "execution_count": 121,
     "metadata": {},
     "output_type": "execute_result"
    }
   ],
   "source": [
    "today = datetime.now()\n",
    "from_date = today - timedelta(days=20)\n",
    "res = companies.aggregate([\n",
    "    {'$match':{'company_name':'TAU'}},\n",
    "    {'$unwind':'$jobs_list'},\n",
    "    {'$unwind':'$jobs_list.application_list'},\n",
    "    {'$match':{\n",
    "        'jobs_list.application_list.application_date':{\n",
    "            '$gte': from_date\n",
    "        }\n",
    "    }},\n",
    "    {'$group':{'_id':'$jobs_list.job_id','apps':{'$sum':1}}}\n",
    "])\n",
    "list(res)"
   ]
  },
  {
   "cell_type": "code",
   "execution_count": 79,
   "metadata": {},
   "outputs": [
    {
     "data": {
      "text/plain": [
       "datetime.datetime(2022, 4, 14, 19, 37, 35, 132516)"
      ]
     },
     "execution_count": 79,
     "metadata": {},
     "output_type": "execute_result"
    }
   ],
   "source": [
    "from_date"
   ]
  }
 ],
 "metadata": {
  "kernelspec": {
   "display_name": "Python 2",
   "language": "python",
   "name": "python2"
  },
  "language_info": {
   "codemirror_mode": {
    "name": "ipython",
    "version": 2
   },
   "file_extension": ".py",
   "mimetype": "text/x-python",
   "name": "python",
   "nbconvert_exporter": "python",
   "pygments_lexer": "ipython2",
   "version": "2.7.15"
  },
  "orig_nbformat": 4
 },
 "nbformat": 4,
 "nbformat_minor": 2
}
