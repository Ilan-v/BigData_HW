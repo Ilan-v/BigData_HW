{
 "cells": [
  {
   "cell_type": "code",
   "execution_count": 19,
   "metadata": {
    "collapsed": true
   },
   "outputs": [],
   "source": [
    "import redis\n",
    "from pymongo import MongoClient\n",
    "from pymongo.errors import ConnectionFailure\n",
    "import time\n",
    "import datetime"
   ]
  },
  {
   "cell_type": "markdown",
   "metadata": {},
   "source": [
    "# Setup\n",
    "functions for connecting and setting up the databases "
   ]
  },
  {
   "cell_type": "code",
   "execution_count": 20,
   "metadata": {
    "collapsed": true
   },
   "outputs": [],
   "source": [
    "current_env = 'production' # 'docker' for development on docker, 'production' for real server\n",
    "current_user = 'stud10'\n",
    "ENV = {\"docker\": '172.17.0.1',\"production\":'bdl1.eng.tau.ac.il'}\n",
    "companiesSet = current_user+\":company:names\"\n",
    "ojOSet = current_user+\":oj\"\n",
    "cand_app_set = current_user+\":candidate_application\""
   ]
  },
  {
   "cell_type": "markdown",
   "metadata": {},
   "source": [
    "### Connections"
   ]
  },
  {
   "cell_type": "code",
   "execution_count": 21,
   "metadata": {
    "collapsed": true
   },
   "outputs": [],
   "source": [
    "def connect_to_redis(port=6379):\n",
    "    r = redis.StrictRedis(host=ENV[current_env], port=port, socket_connect_timeout=10)\n",
    "    r.ping() # send ping to verify that a connection established to redis\n",
    "    print('connected to redis on \"{}\", port {}'.format(ENV[current_env], port)) \n",
    "    return r\n",
    "\n",
    "def connect_to_mongo(port=27017):\n",
    "    if current_env == 'docker':\n",
    "        client = MongoClient(host=ENV[current_env],port=port, connectTimeoutMS=10000)\n",
    "        # client.admin.command('ping') # try to ping mongo server\n",
    "        print('connected to MongoDB on \"{}\", port {}'.format(ENV[current_env], port))\n",
    "    \n",
    "    elif current_env == 'production':\n",
    "        client = MongoClient()\n",
    "    return client\n"
   ]
  },
  {
   "cell_type": "markdown",
   "metadata": {},
   "source": [
    "### Initializiation "
   ]
  },
  {
   "cell_type": "code",
   "execution_count": 22,
   "metadata": {
    "collapsed": true
   },
   "outputs": [],
   "source": [
    "def setup_mongo(client):\n",
    "    db = client[current_user]\n",
    "    companies = db.companies\n",
    "    print(\"companies collection created in {} db\".format(current_user))\n",
    "    return db, companies\n",
    "\n",
    "def reset_redis(r):\n",
    "    print(\"deleting companies set ({})\".format(companiesSet))\n",
    "    r.delete(companiesSet)\n",
    "    print(\"deleting open jobs ({})\".format(ojOSet))\n",
    "    r.delete(ojOSet)\n",
    "    print(\"deleting candidate  ({})\".format(ojOSet))\n",
    "    r.delete(ojOSet)\n",
    "    print(\"redis is clean\") #TODO: check if specific delete is required\n",
    "\n",
    "def reset_mongo(client):\n",
    "    client[current_user].companies.drop()\n",
    "    print(\"mongo is clean\")\n",
    "\n",
    "def restart():\n",
    "    # connect to dbs\n",
    "    r = connect_to_redis()\n",
    "    client = connect_to_mongo()\n",
    "    # clean dbs\n",
    "    reset_redis(r)\n",
    "    reset_mongo(client)\n",
    "    # setup the databases\n",
    "    db, companies = setup_mongo(client)\n",
    "    print(\"restart completed\")\n",
    "    return r, client, db, companies"
   ]
  },
  {
   "cell_type": "markdown",
   "metadata": {},
   "source": [
    "# Operation 1 - Add a new company"
   ]
  },
  {
   "cell_type": "code",
   "execution_count": 23,
   "metadata": {
    "collapsed": true
   },
   "outputs": [],
   "source": [
    "def is_company_exists(r, companies, company_name):\n",
    "    # check if company name in comapny set on redis\n",
    "    if r.sismember(companiesSet, company_name):\n",
    "        return True\n",
    "    \n",
    "    # if not, verify against mongo\n",
    "    elif companies.find_one({\"company_name\": company_name}) is not None:\n",
    "        return True\n",
    "    \n",
    "    else:\n",
    "        return False\n",
    "    \n",
    "def add_company(company_dict,r=None, companies=None):\n",
    "    if r is None:\n",
    "        r = connect_to_redis()\n",
    "    if companies is None:\n",
    "        companies = connect_to_mongo()[current_user].companies\n",
    "        \n",
    "    # getting dict for the company and insert it to db\n",
    "    if 'company_name' not in company_dict:\n",
    "        # raise ValueError(\"company dict must have company_name field\") #no errors allowed\n",
    "        print(\"company dict must have company_name field, no changes were commited to db\")\n",
    "        return None\n",
    "\n",
    "    else:\n",
    "        company_name = company_dict['company_name']\n",
    "    \n",
    "    # verify that company name is unique\n",
    "    if(is_company_exists(r, companies, company_name)):\n",
    "        # raise ValueError(\"company name already taken\") #no errors allowed\n",
    "        print(\"company name already taken, no changes were commited to db\")\n",
    "        return None\n",
    "        \n",
    "    # and then insert to mongo and redis\n",
    "    company_dict['jobs_list'] = [] # initiate jobs list\n",
    "    companies.insert_one(company_dict)\n",
    "    r.sadd(companiesSet, company_dict['company_name'])\n",
    "    print(\"%s Added successfully!\"%(company_name))"
   ]
  },
  {
   "cell_type": "markdown",
   "metadata": {},
   "source": [
    "# Operation 2 - Add a new job position"
   ]
  },
  {
   "cell_type": "code",
   "execution_count": 24,
   "metadata": {
    "collapsed": true
   },
   "outputs": [],
   "source": [
    "def generate_job_id(companies, company_name):\n",
    "    match = {'$match' : {'company_name':company_name}}\n",
    "    project = {'$project': { 'max_id': { '$size':'$jobs_list' }}}\n",
    "    res = companies.aggregate([match,project])\n",
    "    return list(res)[0]['max_id'] + 1\n",
    "\n",
    "def add_job(job_dict, company_name, r=None, companies=None):\n",
    "    # ASSUMPTION: there is no option to delete jobs (so counting jobs can be used to generate job id)\n",
    "    if r is None:\n",
    "        r = connect_to_redis()\n",
    "    if companies is None:\n",
    "        companies = connect_to_mongo()[current_user].companies\n",
    "    if not (is_company_exists(r, companies, company_name)):\n",
    "        raise ValueError(\"company doesn't exist\")\n",
    "    \n",
    "    # generate job id and insert to the company object\n",
    "    job_dict['job_id'] = generate_job_id(companies, company_name)\n",
    "    job_dict['application_list'] = [] # initiate application list\n",
    "    companies.update_one({'company_name': company_name}, {'$push': {'jobs_list': job_dict}}, upsert = True)\n",
    "    r.zincrby(ojOSet,\"%s:%s\"%(job_dict['location'],job_dict['job_title']),amount=1)\n",
    "    print(\"job with id %s was added to %s jobs successfully!\"%(job_dict['job_id'], company_name))"
   ]
  },
  {
   "cell_type": "markdown",
   "metadata": {},
   "source": [
    "# Operation 3 - Add a new application"
   ]
  },
  {
   "cell_type": "code",
   "execution_count": 25,
   "metadata": {
    "collapsed": true
   },
   "outputs": [],
   "source": [
    "def is_job_open(companies, company_name, job_id):\n",
    "    res = companies.find_one(\n",
    "        { \n",
    "            \"company_name\": company_name,\n",
    "        },\n",
    "        { \"jobs_list\": { \"$elemMatch\": { \"job_id\": int(job_id), \"status\": \"open\" }}}\n",
    "    )\n",
    "    return('jobs_list' in res)\n",
    "\n",
    "def is_already_submitted(companies, company_name, job_id, email):\n",
    "    res = companies.find_one(\n",
    "        { \n",
    "            \"company_name\": company_name,\n",
    "        },\n",
    "        { \"jobs_list\": { \"$elemMatch\": { \"job_id\": int(job_id), \"application_list\": {\"$elemMatch\": {'email':email}} }}}\n",
    "    )\n",
    "    return('jobs_list' in res) # if mail doesn't exists an empty object will returned\n",
    "\n",
    "def new_application(candidate, application_time, job_id, company_name, r=None, companies=None):\n",
    "    if r is None:\n",
    "        r = connect_to_redis()\n",
    "    if companies is None:\n",
    "        companies = connect_to_mongo()[current_user].companies\n",
    "\n",
    "    if (not is_job_open(companies, company_name, job_id)):\n",
    "        print(\"you are trying to apply to a closed job\")\n",
    "        return -1\n",
    "\n",
    "    if (is_already_submitted(companies, company_name, job_id, candidate['email'])):\n",
    "        print(\"you have already sent application for this job\")\n",
    "        return -2\n",
    "\n",
    "    # update in mongo\n",
    "    d = datetime.datetime.strptime(application_time, \"%d-%m-%Y %H:%M:%S\")\n",
    "    candidate['application_date'] = d\n",
    "    companies.update_one({\"company_name\": company_name,\"jobs_list\": {\"$elemMatch\":{\"job_id\":int(job_id)}}},{'$push':{'jobs_list.$.application_list':candidate}})\n",
    "\n",
    "    #update in redis\n",
    "    unix_d = time.mktime(d.timetuple())\n",
    "    #check if company already exists in redis\n",
    "    key_string = \"candidate_applications:{}\".format(candidate['email'])\n",
    "    comps = r.zrange(key_string,0,-1,withscores=True)\n",
    "    comp = [x for x in comps if x[0]==company_name]\n",
    "    # if comany already exists - change vlaue to most recent date\n",
    "    if len(comp)>0:\n",
    "        old_timestamp = comp[0][1]\n",
    "        if unix_d>old_timestamp:\n",
    "            r.zadd(key_string,unix_d,company_name)\n",
    "    else:\n",
    "        r.zadd(key_string,unix_d,company_name)\n",
    "        \n",
    "    print(\"{} submited application for job number {} at {}\".format(candidate['candidate_name'],job_id, company_name))"
   ]
  },
  {
   "cell_type": "markdown",
   "metadata": {},
   "source": [
    "# Operation 4 - Update job status"
   ]
  },
  {
   "cell_type": "code",
   "execution_count": 26,
   "metadata": {
    "collapsed": true
   },
   "outputs": [],
   "source": [
    "def update_job_status(company_name, job_id, new_status, r=None, companies=None):\n",
    "    #TODO: update open jobs on redis\n",
    "    if r is None:\n",
    "        r = connect_to_redis()\n",
    "    if companies is None:\n",
    "        companies = connect_to_mongo()[current_user].companies\n",
    "    \n",
    "    companies.update_one({\"company_name\": company_name,\"jobs_list\": {\"$elemMatch\":{\"job_id\":int(job_id)}}},{'$set':{'jobs_list.$.status':new_status}})\n",
    "    print(\"job number: {} at {} is now: {}\".format(job_id, company_name, new_status))"
   ]
  },
  {
   "cell_type": "markdown",
   "metadata": {},
   "source": [
    "# Operation 5 - show latest companies"
   ]
  },
  {
   "cell_type": "code",
   "execution_count": 27,
   "metadata": {
    "collapsed": true
   },
   "outputs": [],
   "source": [
    "def show_latest_10_companies(candidate_email):\n",
    "    key_string = \"candidate_applications:{}\".format(candidate_email)\n",
    "    return r.zrevrange(key_string, 0, 9, withscores=False)"
   ]
  },
  {
   "cell_type": "markdown",
   "metadata": {},
   "source": [
    "# Operation 6 - show number of open jobs"
   ]
  },
  {
   "cell_type": "code",
   "execution_count": 44,
   "metadata": {
    "collapsed": false
   },
   "outputs": [],
   "source": [
    "def show_number_of_jobs(location,title):\n",
    "    key_string = \"%s:%s\"%(location,title)\n",
    "    results = r.zrevrange(ojOSet, 0, -1, withscores=True)\n",
    "    for res in results:\n",
    "        if res[0] == key_string:\n",
    "            return res[1]\n",
    "    return 0"
   ]
  },
  {
   "cell_type": "markdown",
   "metadata": {},
   "source": [
    "# Run all operations"
   ]
  },
  {
   "cell_type": "code",
   "execution_count": 29,
   "metadata": {
    "collapsed": false
   },
   "outputs": [
    {
     "name": "stdout",
     "output_type": "stream",
     "text": [
      "connected to redis on \"bdl1.eng.tau.ac.il\", port 6379\n",
      "deleting companies set (stud10:company:names)\n",
      "deleting open jobs (stud10:oj)\n",
      "deleting candidate  (stud10:oj)\n",
      "redis is clean\n",
      "mongo is clean\n",
      "companies collection created in stud10 db\n"
     ]
    }
   ],
   "source": [
    "r = connect_to_redis()\n",
    "client = connect_to_mongo()\n",
    "\n",
    "# clean the databases\n",
    "reset_redis(r)\n",
    "reset_mongo(client)\n",
    "\n",
    "# setup the databases\n",
    "db, companies = setup_mongo(client)"
   ]
  },
  {
   "cell_type": "code",
   "execution_count": 30,
   "metadata": {
    "collapsed": false
   },
   "outputs": [
    {
     "name": "stdout",
     "output_type": "stream",
     "text": [
      "TAU Added successfully!\n"
     ]
    }
   ],
   "source": [
    "# Operation 1 - Add a new company\n",
    "add_company({'company_name':'TAU', 'company_description':'University'}, r=r, companies=companies)"
   ]
  },
  {
   "cell_type": "code",
   "execution_count": 31,
   "metadata": {
    "collapsed": false
   },
   "outputs": [
    {
     "name": "stdout",
     "output_type": "stream",
     "text": [
      "job with id 1 was added to TAU jobs successfully!\n"
     ]
    }
   ],
   "source": [
    "# Operation 2 - Add a new job position\n",
    "add_job({'job_title':'bi developer', 'location': 'Tel Aviv','requirements':['python','big data','mongodb'],'status':'open','publish_date':'01-02-2020'},'TAU', r=r, companies=companies)"
   ]
  },
  {
   "cell_type": "code",
   "execution_count": 32,
   "metadata": {
    "collapsed": false
   },
   "outputs": [
    {
     "name": "stdout",
     "output_type": "stream",
     "text": [
      "laura submited application for job number 1 at TAU\n"
     ]
    }
   ],
   "source": [
    "# Operation 3 - Add a new application\n",
    "new_application({'candidate_name':'laura', 'email':'laura@gmail.com','linkedin':'https://www.linkedin.com/in/laura/', 'skills': ['python','sql']},'01-02-2020 15:00:00', '1','TAU', r=r, companies=companies)"
   ]
  },
  {
   "cell_type": "code",
   "execution_count": 33,
   "metadata": {
    "collapsed": false
   },
   "outputs": [
    {
     "name": "stdout",
     "output_type": "stream",
     "text": [
      "job number: 1 at TAU is now: open\n"
     ]
    }
   ],
   "source": [
    "# Operation 4 - Update job status\n",
    "update_job_status('TAU','1','open', r=r, companies=companies)"
   ]
  },
  {
   "cell_type": "code",
   "execution_count": 34,
   "metadata": {
    "collapsed": false
   },
   "outputs": [
    {
     "data": {
      "text/plain": [
       "[]"
      ]
     },
     "execution_count": 34,
     "metadata": {},
     "output_type": "execute_result"
    }
   ],
   "source": [
    "# Operation 5 - Show latest 10 companies\n",
    "show_latest_10_companies('lebron@gmail.com')"
   ]
  },
  {
   "cell_type": "code",
   "execution_count": 48,
   "metadata": {
    "collapsed": false
   },
   "outputs": [
    {
     "data": {
      "text/plain": [
       "0"
      ]
     },
     "execution_count": 48,
     "metadata": {},
     "output_type": "execute_result"
    }
   ],
   "source": [
    "# Operation 6 - Show number of jobs\n",
    "show_number_of_jobs('Tel Aviv','bi developer')"
   ]
  },
  {
   "cell_type": "markdown",
   "metadata": {},
   "source": [
    "# Tests "
   ]
  },
  {
   "cell_type": "code",
   "execution_count": null,
   "metadata": {
    "collapsed": false
   },
   "outputs": [],
   "source": [
    "list(db['companies'].find({}))"
   ]
  },
  {
   "cell_type": "code",
   "execution_count": null,
   "metadata": {
    "collapsed": false
   },
   "outputs": [],
   "source": [
    "match = {'$match' : {'company_name':'TAU'}}\n",
    "project = {'$project': { 'max_id': { '$size':'$jobs_list' }}}\n",
    "# project = {'$project': { 'count': { '$size':'$jobs_list' }}}\n",
    "res = companies.aggregate([match,project])\n",
    "list(res)"
   ]
  },
  {
   "cell_type": "code",
   "execution_count": null,
   "metadata": {
    "collapsed": false
   },
   "outputs": [],
   "source": [
    "unwind = {\"$unwind\": \"$jobs_list\"}\n",
    "project = {\"$project\":{\n",
    "            'open_jobs':{\n",
    "                \"$cond\": {\"jobs_list.status\":{\"$eq\":\"open\"}}\n",
    "                },\n",
    "            'closed_jobs':{\n",
    "                \"$cond\": {\"jobs_list.status\":{\"$eq\":\"close\"}}\n",
    "            }\n",
    "    }\n",
    "}\n",
    "group = { \"$group\": {\n",
    "            \"_id\": {\n",
    "                \"publish_date\":\"$jobs_list.publish_date\",\n",
    "                \"company_name\": \"$company_name\"\n",
    "                },\n",
    "            \"open_jobs\": {\"$sum\": 1}}}\n",
    "\n",
    "res = companies.aggregate([unwind, project, group])\n",
    "list(res)         "
   ]
  },
  {
   "cell_type": "markdown",
   "metadata": {},
   "source": []
  },
  {
   "cell_type": "code",
   "execution_count": null,
   "metadata": {
    "collapsed": false
   },
   "outputs": [],
   "source": [
    "res = companies.aggregate([\n",
    "    { \"$unwind\": \"$jobs_list\"},\n",
    "    { \"$match\": {\"jobs_list.status\": \"open\"} },\n",
    "    { \"$group\": {\"_id\": \"$jobs_list.publish_date\", \"open_jobs\": {\"$sum\": 1}}}\n",
    "    ])\n",
    "list(res)"
   ]
  },
  {
   "cell_type": "code",
   "execution_count": null,
   "metadata": {
    "collapsed": false
   },
   "outputs": [],
   "source": [
    "new_application({'candidate_name':'laura', 'email':'laura@gmail.com','linkedin':'https://www.linkedin.com/in/laura/', 'skills': ['python','sql']},'14-02-2022 15:00:00', '3','TAU', r=r, companies=companies)"
   ]
  },
  {
   "cell_type": "code",
   "execution_count": null,
   "metadata": {
    "collapsed": false
   },
   "outputs": [],
   "source": [
    "r.zrange('candidate_applications:laura@gmail.com',0,-1,withscores=True)"
   ]
  },
  {
   "cell_type": "code",
   "execution_count": null,
   "metadata": {
    "collapsed": false
   },
   "outputs": [],
   "source": [
    "a = r.zrange('moti:luhim',0,-1,withscores=True)\n",
    "b = [x for x in a if x[0]=='haim']\n",
    "b"
   ]
  },
  {
   "cell_type": "code",
   "execution_count": null,
   "metadata": {
    "collapsed": false
   },
   "outputs": [],
   "source": [
    "r.keys('stud10:')"
   ]
  },
  {
   "cell_type": "code",
   "execution_count": 41,
   "metadata": {
    "collapsed": false
   },
   "outputs": [
    {
     "name": "stdout",
     "output_type": "stream",
     "text": [
      "1.0\n"
     ]
    }
   ],
   "source": [
    "# r.get('ojOSet')\n",
    "\n",
    "results = r.zrevrange(ojOSet, 0, -1, withscores=True)\n",
    "for res in results:\n",
    "    if res[0] == 'Tel Aviv:bi developer':\n",
    "        print res[1]"
   ]
  }
 ],
 "metadata": {
  "kernelspec": {
   "display_name": "Pyspark(1.6.0)",
   "language": "python",
   "name": "pyspark"
  },
  "language_info": {
   "codemirror_mode": {
    "name": "ipython",
    "version": 2
   },
   "file_extension": ".py",
   "mimetype": "text/x-python",
   "name": "python",
   "nbconvert_exporter": "python",
   "pygments_lexer": "ipython2",
   "version": "2.7.15"
  }
 },
 "nbformat": 4,
 "nbformat_minor": 2
}
