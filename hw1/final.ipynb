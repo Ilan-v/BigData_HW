{
 "cells": [
  {
   "cell_type": "code",
   "execution_count": 40,
   "metadata": {},
   "outputs": [],
   "source": [
    "import redis\n",
    "from pymongo import MongoClient\n",
    "from pymongo.errors import ConnectionFailure\n",
    "import time\n",
    "import datetime\n",
    "import pandas as pd"
   ]
  },
  {
   "cell_type": "markdown",
   "metadata": {},
   "source": [
    "# Setup\n",
    "functions for connecting and setting up the databases "
   ]
  },
  {
   "cell_type": "code",
   "execution_count": 41,
   "metadata": {},
   "outputs": [],
   "source": [
    "current_env = 'production' # 'docker' for development on docker, 'production' for real server\n",
    "current_user = 'stud10'\n",
    "ENV = {\"docker\": '172.17.0.1',\"production\":'bdl1.eng.tau.ac.il'}\n",
    "companiesSet = current_user+\":company:names\"\n",
    "open_jobs = current_user+\":oj:\"\n",
    "cand_app_set = current_user+\":candidate_application\"\n",
    "redis_db_num = 10"
   ]
  },
  {
   "cell_type": "markdown",
   "metadata": {},
   "source": [
    "### Connections"
   ]
  },
  {
   "cell_type": "code",
   "execution_count": 42,
   "metadata": {},
   "outputs": [],
   "source": [
    "def connect_to_redis(db_num=redis_db_num,port=6379):\n",
    "    # We connect to redis on a specific database (db_num) to not interuprt other students\n",
    "    r = redis.StrictRedis(host=ENV[current_env], port=port, socket_connect_timeout=10,db=db_num)\n",
    "    r.ping() # send ping to verify that a connection established to redis\n",
    "    print('connected to redis on \"{}\", port {}'.format(ENV[current_env], port)) \n",
    "    return r\n",
    "\n",
    "def connect_to_mongo(port=27017):\n",
    "    if current_env == 'docker':\n",
    "        client = MongoClient(host=ENV[current_env],port=port, connectTimeoutMS=10000)\n",
    "        # client.admin.command('ping') # try to ping mongo server\n",
    "        print('connected to MongoDB on \"{}\", port {}'.format(ENV[current_env], port))\n",
    "    \n",
    "    elif current_env == 'production':\n",
    "        client = MongoClient()\n",
    "    return client\n"
   ]
  },
  {
   "cell_type": "markdown",
   "metadata": {},
   "source": [
    "### Initializiation "
   ]
  },
  {
   "cell_type": "code",
   "execution_count": 43,
   "metadata": {},
   "outputs": [],
   "source": [
    "def setup_mongo(client):\n",
    "    db = client[current_user]\n",
    "    companies = db.companies\n",
    "    print(\"companies collection created in {} db\".format(current_user))\n",
    "    return db, companies\n",
    "\n",
    "def reset_redis(r):\n",
    "    r.flushdb()\n",
    "    print('redis database number {} is clean'.format(redis_db_num))\n",
    "\n",
    "def reset_mongo(client):\n",
    "    client[current_user].companies.drop()\n",
    "    print(\"mongo is clean\")\n",
    "\n",
    "def restart():\n",
    "    # connect to dbs\n",
    "    r = connect_to_redis()\n",
    "    client = connect_to_mongo()\n",
    "    # clean dbs\n",
    "    reset_redis(r)\n",
    "    reset_mongo(client)\n",
    "    # setup the databases\n",
    "    db, companies = setup_mongo(client)\n",
    "    print(\"restart completed\")\n",
    "    return r, client, db, companies"
   ]
  },
  {
   "cell_type": "markdown",
   "metadata": {},
   "source": [
    "# Operation 1 - Add a new company"
   ]
  },
  {
   "cell_type": "code",
   "execution_count": 44,
   "metadata": {},
   "outputs": [],
   "source": [
    "def is_company_exists(r, companies, company_name):\n",
    "    # check if company name in comapny set on redis\n",
    "    if r.sismember(companiesSet, company_name):\n",
    "        return True\n",
    "    \n",
    "    # if not, verify against mongo\n",
    "    elif companies.find_one({\"company_name\": company_name}) is not None:\n",
    "        return True\n",
    "    \n",
    "    else:\n",
    "        return False\n",
    "    \n",
    "def add_company(company_dict,r=None, companies=None):\n",
    "    if r is None:\n",
    "        r = connect_to_redis()\n",
    "    if companies is None:\n",
    "        companies = connect_to_mongo()[current_user].companies\n",
    "        \n",
    "    # getting dict for the company and insert it to db\n",
    "    if 'company_name' not in company_dict:\n",
    "        # raise ValueError(\"company dict must have company_name field\") #no errors allowed\n",
    "        print(\"company dict must have company_name field, no changes were commited to db\")\n",
    "        return None\n",
    "\n",
    "    else:\n",
    "        company_name = company_dict['company_name']\n",
    "    \n",
    "    # verify that company name is unique\n",
    "    if(is_company_exists(r, companies, company_name)):\n",
    "        # raise ValueError(\"company name already taken\") #no errors allowed\n",
    "        print(\"company name already taken, no changes were commited to db\")\n",
    "        return None\n",
    "        \n",
    "    # and then insert to mongo and redis\n",
    "    company_dict['jobs_list'] = [] # initiate jobs list\n",
    "    companies.insert_one(company_dict)\n",
    "    r.sadd(companiesSet, company_dict['company_name'])\n",
    "    print(\"%s Added successfully!\"%(company_name))"
   ]
  },
  {
   "cell_type": "markdown",
   "metadata": {},
   "source": [
    "# Operation 2 - Add a new job position"
   ]
  },
  {
   "cell_type": "code",
   "execution_count": 56,
   "metadata": {},
   "outputs": [],
   "source": [
    "def generate_job_id(companies, company_name):\n",
    "    match = {'$match' : {'company_name':company_name}}\n",
    "    project = {'$project': { 'max_id': { '$size':'$jobs_list' }}}\n",
    "    res = companies.aggregate([match,project])\n",
    "    return list(res)[0]['max_id'] + 1\n",
    "\n",
    "def add_job(job_dict, company_name, r=None, companies=None):\n",
    "    # ASSUMPTION: there is no option to delete jobs (so counting jobs can be used to generate job id)\n",
    "    if r is None:\n",
    "        r = connect_to_redis()\n",
    "    if companies is None:\n",
    "        companies = connect_to_mongo()[current_user].companies\n",
    "    if not (is_company_exists(r, companies, company_name)):\n",
    "        print(\"company doesn't exist\")\n",
    "        return\n",
    "    \n",
    "    # generate job id and insert to the company object\n",
    "    job_dict['job_id'] = generate_job_id(companies, company_name)\n",
    "    job_dict['application_list'] = [] # initiate application list\n",
    "    companies.update_one({'company_name': company_name}, {'$push': {'jobs_list': job_dict}}, upsert = True)\n",
    "    # add job to redis\n",
    "    if job_dict['status'] == 'open':\n",
    "        title = job_dict['job_title']\n",
    "        location = job_dict['location']\n",
    "        key_string = open_jobs + \"%s:%s\"%(location,title)\n",
    "        res = r.incr(key_string)\n",
    "        print('There are now {} open jobs for: {} in {}'.format(res,title,location))\n",
    "    \n",
    "    print(\"job with id %s was added to %s jobs successfully!\"%(job_dict['job_id'], company_name))"
   ]
  },
  {
   "cell_type": "markdown",
   "metadata": {},
   "source": [
    "# Operation 3 - Add a new application"
   ]
  },
  {
   "cell_type": "code",
   "execution_count": 46,
   "metadata": {},
   "outputs": [],
   "source": [
    "def is_job_open(companies, company_name, job_id):\n",
    "    res = companies.find_one(\n",
    "        { \n",
    "            \"company_name\": company_name,\n",
    "        },\n",
    "        { \"jobs_list\": { \"$elemMatch\": { \"job_id\": int(job_id), \"status\": \"open\" }}}\n",
    "    )\n",
    "    return('jobs_list' in res)\n",
    "\n",
    "def is_already_submitted(companies, company_name, job_id, email):\n",
    "    res = companies.find_one(\n",
    "        { \n",
    "            \"company_name\": company_name,\n",
    "        },\n",
    "        { \"jobs_list\": { \"$elemMatch\": { \"job_id\": int(job_id), \"application_list\": {\"$elemMatch\": {'email':email}} }}}\n",
    "    )\n",
    "    return('jobs_list' in res) # if mail doesn't exists an empty object will returned\n",
    "\n",
    "def new_application(candidate, application_time, job_id, company_name, r=None, companies=None):\n",
    "    if r is None:\n",
    "        r = connect_to_redis()\n",
    "    if companies is None:\n",
    "        companies = connect_to_mongo()[current_user].companies\n",
    "\n",
    "    if (not is_job_open(companies, company_name, job_id)):\n",
    "        print(\"you are trying to apply to a closed job\")\n",
    "        return -1\n",
    "\n",
    "    if (is_already_submitted(companies, company_name, job_id, candidate['email'])):\n",
    "        print(\"you have already sent application for this job\")\n",
    "        return -2\n",
    "\n",
    "    # update in mongo\n",
    "    d = datetime.datetime.strptime(application_time, \"%d-%m-%Y %H:%M:%S\")\n",
    "    candidate['application_date'] = d\n",
    "    companies.update_one({\"company_name\": company_name,\"jobs_list\": {\"$elemMatch\":{\"job_id\":int(job_id)}}},{'$push':{'jobs_list.$.application_list':candidate}})\n",
    "\n",
    "    #update in redis\n",
    "    unix_d = time.mktime(d.timetuple())\n",
    "    #check if company already exists in redis\n",
    "    key_string = \"candidate_applications:{}\".format(candidate['email'])\n",
    "    comps = r.zrange(key_string,0,-1,withscores=True)\n",
    "    comp = [x for x in comps if x[0]==company_name]\n",
    "    # if comany already exists - change vlaue to most recent date\n",
    "    if len(comp)>0:\n",
    "        old_timestamp = comp[0][1]\n",
    "        if unix_d>old_timestamp:\n",
    "            r.zadd(key_string,unix_d,company_name)\n",
    "    else:\n",
    "        r.zadd(key_string,unix_d,company_name)\n",
    "        \n",
    "    print(\"{} submited application for job number {} at {}\".format(candidate['candidate_name'],job_id, company_name))"
   ]
  },
  {
   "cell_type": "markdown",
   "metadata": {},
   "source": [
    "# Operation 4 - Update job status"
   ]
  },
  {
   "cell_type": "code",
   "execution_count": 61,
   "metadata": {},
   "outputs": [],
   "source": [
    "def update_job_status(company_name, job_id, new_status, r=None, companies=None):\n",
    "    res = companies.aggregate([\n",
    "    { \"$unwind\": \"$jobs_list\"},\n",
    "    { \"$match\": {\"jobs_list.job_id\": 1, 'company_name':'TAU'}},\n",
    "    { \"$project\": { \"jobs_list.status\" : 1, 'jobs_list.location': 1, 'jobs_list.job_title': 1}}\n",
    "    ])\n",
    "\n",
    "    for job in res:\n",
    "        old_status = job['jobs_list']['status']\n",
    "        location = job['jobs_list']['location']\n",
    "        job_title = job['jobs_list']['job_title']\n",
    "    \n",
    "    #update redis\n",
    "    key_string = open_jobs + \"%s:%s\"%(location,job_title)\n",
    "    if old_status == 'open' and new_status == 'close':\n",
    "        res = r.decr(key_string)\n",
    "    \n",
    "    elif new_status == 'open' and old_status == 'close':\n",
    "        res = r.incr(key_string)\n",
    "    \n",
    "    #update mongo\n",
    "    companies.update_one(\n",
    "        {\"company_name\": company_name,\n",
    "        \"jobs_list\": {\n",
    "            \"$elemMatch\":{\"job_id\":int(job_id)}}}, \n",
    "        {'$set':{'jobs_list.$.status':new_status}}\n",
    "        )\n",
    "    \n",
    "    print(\"job number: {} at {} is now: {}\".format(job_id, company_name, new_status))\n",
    "    print('There are now {} open jobs for: {} in {}'.format(res, job_title,location))"
   ]
  },
  {
   "cell_type": "markdown",
   "metadata": {},
   "source": [
    "# Operation 5 - show latest companies"
   ]
  },
  {
   "cell_type": "code",
   "execution_count": 48,
   "metadata": {},
   "outputs": [],
   "source": [
    "def show_latest_10_companies(candidate_email):\n",
    "    key_string = \"candidate_applications:{}\".format(candidate_email)\n",
    "    return r.zrevrange(key_string, 0, 9, withscores=False)"
   ]
  },
  {
   "cell_type": "markdown",
   "metadata": {},
   "source": [
    "# Operation 6 - show number of open jobs"
   ]
  },
  {
   "cell_type": "code",
   "execution_count": 49,
   "metadata": {},
   "outputs": [],
   "source": [
    "def show_number_of_jobs(location,title):\n",
    "    key_string = open_jobs + \"%s:%s\"%(location,title)\n",
    "    result = r.get(key_string)"
   ]
  },
  {
   "cell_type": "markdown",
   "metadata": {},
   "source": [
    "# Report 1\n",
    "This functions returns ... <br>\n",
    "We tried sorting values in mongo instead of in pandas, but it didn't work properly. We believe it is due to old version of. mongo. We left commented code in solution so you can see we tried."
   ]
  },
  {
   "cell_type": "code",
   "execution_count": 50,
   "metadata": {},
   "outputs": [],
   "source": [
    "def count_jobs_by_company(companies):\n",
    "    project = {\n",
    "    '$project':{\n",
    "        'company_name':1,\n",
    "        '_id':0,\n",
    "        'open_jobs':{\n",
    "            '$size':{\n",
    "                '$filter' :{\n",
    "                    'input': '$jobs_list',\n",
    "                    'as':'oj',\n",
    "                    'cond':{'$eq':['$$oj.status','open']}\n",
    "                    }\n",
    "                }\n",
    "            },\n",
    "        'closed_jobs':{\n",
    "            '$size':{\n",
    "                '$filter' :{\n",
    "                    'input': '$jobs_list',\n",
    "                    'as':'cj',\n",
    "                    'cond':{'$eq':['$$cj.status','close']}\n",
    "                    }\n",
    "                }\n",
    "            }\n",
    "        }\n",
    "    }\n",
    "    # sort1 = {'$sort':{'open_jobs':-1,'closed_jobs':-1}} #this doesn't work as expected\n",
    "    # res = companies.aggregate([project,sort])\n",
    "    res = companies.aggregate([project])\n",
    "    df = pd.DataFrame(list(res))\n",
    "    \n",
    "    try:\n",
    "        # arange column names for aesthitcal reasons \n",
    "        ordered_cols = ['company_name','open_jobs','closed_jobs']\n",
    "        df = df[ordered_cols]\n",
    "        # sort values\n",
    "        df.sort_values(by=['open_jobs','closed_jobs'],ascending=False,inplace=True)\n",
    "    except KeyError:\n",
    "        print('No job at any company exists - no records returned') \n",
    "    # return list(res)\n",
    "    return df"
   ]
  },
  {
   "cell_type": "code",
   "execution_count": 51,
   "metadata": {},
   "outputs": [],
   "source": [
    "# count_jobs_by_company(companies)"
   ]
  },
  {
   "cell_type": "markdown",
   "metadata": {},
   "source": [
    "# Report 2"
   ]
  },
  {
   "cell_type": "code",
   "execution_count": 52,
   "metadata": {},
   "outputs": [],
   "source": [
    "def count_candidates_by_job():\n",
    "    unwind = {'unwind'}\n",
    "    project = {\n",
    "        '$project':{\n",
    "            '_id':0,\n",
    "        }\n",
    "    }  \n",
    "    # sort1 = {'$sort':{'open_jobs':-1,'closed_jobs':-1}} #this doesn't work as expected\n",
    "    res = companies.aggregate([project,sort])\n",
    "    # res = companies.aggregate([project])\n",
    "    df = pd.DataFrame(list(res))\n",
    "    \n",
    "    try:\n",
    "        # arange column names for aesthitcal reasons \n",
    "        ordered_cols = ['company_name','open_jobs','closed_jobs']\n",
    "        df = df[ordered_cols]\n",
    "        # sort values\n",
    "        # df.sort_values(by=['open_jobs','closed_jobs'],ascending=False,inplace=True)\n",
    "    except KeyError:\n",
    "        print('No job at any company exists - no records returned') \n",
    "    # return list(res)\n",
    "    return df"
   ]
  },
  {
   "cell_type": "markdown",
   "metadata": {},
   "source": [
    "# Run all operations"
   ]
  },
  {
   "cell_type": "code",
   "execution_count": 62,
   "metadata": {},
   "outputs": [
    {
     "name": "stdout",
     "output_type": "stream",
     "text": [
      "connected to redis on \"bdl1.eng.tau.ac.il\", port 6379\n",
      "redis database number 10 is clean\n",
      "mongo is clean\n",
      "companies collection created in stud10 db\n"
     ]
    }
   ],
   "source": [
    "r = connect_to_redis(redis_db_num)\n",
    "client = connect_to_mongo()\n",
    "\n",
    "# clean the databases\n",
    "reset_redis(r)\n",
    "reset_mongo(client)\n",
    "\n",
    "# setup the databases\n",
    "db, companies = setup_mongo(client)"
   ]
  },
  {
   "cell_type": "code",
   "execution_count": 63,
   "metadata": {},
   "outputs": [
    {
     "name": "stdout",
     "output_type": "stream",
     "text": [
      "TAU Added successfully!\n"
     ]
    }
   ],
   "source": [
    "# Operation 1 - Add a new company\n",
    "add_company({'company_name':'TAU', 'company_description':'University'}, r=r, companies=companies)"
   ]
  },
  {
   "cell_type": "code",
   "execution_count": 64,
   "metadata": {},
   "outputs": [
    {
     "name": "stdout",
     "output_type": "stream",
     "text": [
      "there are now 1 open jobs for: bi developer in Tel Aviv\n",
      "job with id 1 was added to TAU jobs successfully!\n"
     ]
    }
   ],
   "source": [
    "# Operation 2 - Add a new job position\n",
    "add_job({'job_title':'bi developer', 'location': 'Tel Aviv','requirements':['python','big data','mongodb'],'status':'open','publish_date':'01-02-2020'},'TAU', r=r, companies=companies)"
   ]
  },
  {
   "cell_type": "code",
   "execution_count": 65,
   "metadata": {},
   "outputs": [
    {
     "name": "stdout",
     "output_type": "stream",
     "text": [
      "laura submited application for job number 1 at TAU\n"
     ]
    }
   ],
   "source": [
    "# Operation 3 - Add a new application\n",
    "new_application({'candidate_name':'laura', 'email':'laura@gmail.com','linkedin':'https://www.linkedin.com/in/laura/', 'skills': ['python','sql']},'01-02-2020 15:00:00', '1','TAU', r=r, companies=companies)"
   ]
  },
  {
   "cell_type": "code",
   "execution_count": 66,
   "metadata": {},
   "outputs": [
    {
     "name": "stdout",
     "output_type": "stream",
     "text": [
      "job number: 1 at TAU is now: close\n",
      "there are now 0 open jobs for: bi developer in Tel Aviv\n"
     ]
    }
   ],
   "source": [
    "# Operation 4 - Update job status\n",
    "update_job_status('TAU','1','close', r=r, companies=companies)"
   ]
  },
  {
   "cell_type": "markdown",
   "metadata": {},
   "source": [
    "# Tests "
   ]
  },
  {
   "cell_type": "code",
   "execution_count": 33,
   "metadata": {},
   "outputs": [
    {
     "data": {
      "text/html": [
       "<div>\n",
       "<style scoped>\n",
       "    .dataframe tbody tr th:only-of-type {\n",
       "        vertical-align: middle;\n",
       "    }\n",
       "\n",
       "    .dataframe tbody tr th {\n",
       "        vertical-align: top;\n",
       "    }\n",
       "\n",
       "    .dataframe thead th {\n",
       "        text-align: right;\n",
       "    }\n",
       "</style>\n",
       "<table border=\"1\" class=\"dataframe\">\n",
       "  <thead>\n",
       "    <tr style=\"text-align: right;\">\n",
       "      <th></th>\n",
       "      <th>company_name</th>\n",
       "      <th>open_jobs</th>\n",
       "      <th>closed_jobs</th>\n",
       "    </tr>\n",
       "  </thead>\n",
       "  <tbody>\n",
       "    <tr>\n",
       "      <th>1</th>\n",
       "      <td>motiluhim_inc</td>\n",
       "      <td>2</td>\n",
       "      <td>2</td>\n",
       "    </tr>\n",
       "    <tr>\n",
       "      <th>0</th>\n",
       "      <td>TAU</td>\n",
       "      <td>1</td>\n",
       "      <td>3</td>\n",
       "    </tr>\n",
       "  </tbody>\n",
       "</table>\n",
       "</div>"
      ],
      "text/plain": [
       "    company_name  open_jobs  closed_jobs\n",
       "1  motiluhim_inc          2            2\n",
       "0            TAU          1            3"
      ]
     },
     "execution_count": 33,
     "metadata": {},
     "output_type": "execute_result"
    }
   ],
   "source": [
    "count_jobs_by_company(companies)"
   ]
  },
  {
   "cell_type": "code",
   "execution_count": 32,
   "metadata": {},
   "outputs": [
    {
     "name": "stdout",
     "output_type": "stream",
     "text": [
      "company name already taken, no changes were commited to db\n",
      "job with id 3 was added to motiluhim_inc jobs successfully!\n",
      "job with id 4 was added to motiluhim_inc jobs successfully!\n"
     ]
    }
   ],
   "source": [
    "add_company({'company_name':'motiluhim_inc', 'company_description':'itzikspensiv'}, r=r, companies=companies)\n",
    "add_job({'job_title':'fullstack developer', 'location': 'Tel Aviv','requirements':['python','big data','mongodb'],'status':'close','publish_date':'01-02-2020'},'motiluhim_inc', r=r, companies=companies)\n",
    "add_job({'job_title':'kaki developer', 'location': 'Tel Aviv','requirements':['python','big data','mongodb'],'status':'open','publish_date':'01-02-2020'},'motiluhim_inc', r=r, companies=companies)"
   ]
  },
  {
   "cell_type": "code",
   "execution_count": 30,
   "metadata": {},
   "outputs": [
    {
     "name": "stdout",
     "output_type": "stream",
     "text": [
      "job with id 4 was added to TAU jobs successfully!\n"
     ]
    }
   ],
   "source": [
    "add_job({'job_title':'frontend developer', 'location': 'Tel Aviv','requirements':['python','big data','mongodb'],'status':'close','publish_date':'01-02-2020'},'TAU', r=r, companies=companies)"
   ]
  },
  {
   "cell_type": "code",
   "execution_count": 23,
   "metadata": {},
   "outputs": [
    {
     "name": "stdout",
     "output_type": "stream",
     "text": [
      "job number: 1 at motiluhim_inc is now: open\n"
     ]
    }
   ],
   "source": [
    "update_job_status('motiluhim_inc','1','open', r=r, companies=companies)"
   ]
  },
  {
   "cell_type": "code",
   "execution_count": 48,
   "metadata": {},
   "outputs": [
    {
     "data": {
      "text/html": [
       "<div>\n",
       "<style scoped>\n",
       "    .dataframe tbody tr th:only-of-type {\n",
       "        vertical-align: middle;\n",
       "    }\n",
       "\n",
       "    .dataframe tbody tr th {\n",
       "        vertical-align: top;\n",
       "    }\n",
       "\n",
       "    .dataframe thead th {\n",
       "        text-align: right;\n",
       "    }\n",
       "</style>\n",
       "<table border=\"1\" class=\"dataframe\">\n",
       "  <thead>\n",
       "    <tr style=\"text-align: right;\">\n",
       "      <th></th>\n",
       "      <th>closed_jobs</th>\n",
       "      <th>company_name</th>\n",
       "      <th>open_jobs</th>\n",
       "    </tr>\n",
       "  </thead>\n",
       "  <tbody>\n",
       "    <tr>\n",
       "      <th>0</th>\n",
       "      <td>3</td>\n",
       "      <td>TAU</td>\n",
       "      <td>1</td>\n",
       "    </tr>\n",
       "    <tr>\n",
       "      <th>1</th>\n",
       "      <td>2</td>\n",
       "      <td>motiluhim_inc</td>\n",
       "      <td>2</td>\n",
       "    </tr>\n",
       "  </tbody>\n",
       "</table>\n",
       "</div>"
      ],
      "text/plain": [
       "   closed_jobs   company_name  open_jobs\n",
       "0            3            TAU          1\n",
       "1            2  motiluhim_inc          2"
      ]
     },
     "execution_count": 48,
     "metadata": {},
     "output_type": "execute_result"
    }
   ],
   "source": [
    "\n",
    "project = {\n",
    "'$project':{\n",
    "    'company_name':1,\n",
    "    '_id':0,\n",
    "    'open_jobs':{\n",
    "        '$size':{\n",
    "            '$filter' :{\n",
    "                'input': '$jobs_list',\n",
    "                'as':'oj',\n",
    "                'cond':{'$eq':['$$oj.status','open']}\n",
    "                }\n",
    "            }\n",
    "        },\n",
    "    'closed_jobs':{\n",
    "        '$size':{\n",
    "            '$filter' :{\n",
    "                'input': '$jobs_list',\n",
    "                'as':'cj',\n",
    "                'cond':{'$eq':['$$cj.status','close']}\n",
    "                }\n",
    "            }\n",
    "        }\n",
    "    }\n",
    "}\n",
    "sort = {'$sort':{'open_jobs':-1,'closed_jobs':-1}} #this doesn't work as expected\n",
    "res = companies.aggregate([project,sort])\n",
    "# res = companies.aggregate([project])\n",
    "df = pd.DataFrame(list(res))\n",
    "\n",
    "\n",
    "df"
   ]
  },
  {
   "cell_type": "code",
   "execution_count": 86,
   "metadata": {},
   "outputs": [],
   "source": [
    "unwind = {\n",
    "    '$unwind':'$jobs_list'\n",
    "}\n",
    "group = {\n",
    "    '$group':{'_id':'$comapny_name'}\n",
    "}\n",
    "sbc = {\n",
    "    '$sortByCount':'$jobs_list.status'\n",
    "}"
   ]
  },
  {
   "cell_type": "code",
   "execution_count": 87,
   "metadata": {},
   "outputs": [
    {
     "data": {
      "text/html": [
       "<div>\n",
       "<style scoped>\n",
       "    .dataframe tbody tr th:only-of-type {\n",
       "        vertical-align: middle;\n",
       "    }\n",
       "\n",
       "    .dataframe tbody tr th {\n",
       "        vertical-align: top;\n",
       "    }\n",
       "\n",
       "    .dataframe thead th {\n",
       "        text-align: right;\n",
       "    }\n",
       "</style>\n",
       "<table border=\"1\" class=\"dataframe\">\n",
       "  <thead>\n",
       "    <tr style=\"text-align: right;\">\n",
       "      <th></th>\n",
       "      <th>_id</th>\n",
       "    </tr>\n",
       "  </thead>\n",
       "  <tbody>\n",
       "    <tr>\n",
       "      <th>0</th>\n",
       "      <td>None</td>\n",
       "    </tr>\n",
       "  </tbody>\n",
       "</table>\n",
       "</div>"
      ],
      "text/plain": [
       "    _id\n",
       "0  None"
      ]
     },
     "execution_count": 87,
     "metadata": {},
     "output_type": "execute_result"
    }
   ],
   "source": [
    "zibi = companies.aggregate([unwind,group])\n",
    "pd.DataFrame(list(zibi))"
   ]
  },
  {
   "cell_type": "code",
   "execution_count": 89,
   "metadata": {},
   "outputs": [
    {
     "data": {
      "text/plain": [
       "[]"
      ]
     },
     "execution_count": 89,
     "metadata": {},
     "output_type": "execute_result"
    }
   ],
   "source": [
    "companies['jobs_list'].aggregate([\n",
    "    {'$group':{\n",
    "        '_id':'$status',\n",
    "        'count':{'$sum':1}\n",
    "    }}\n",
    "])"
   ]
  },
  {
   "cell_type": "code",
   "execution_count": null,
   "metadata": {},
   "outputs": [
    {
     "data": {
      "text/html": [
       "<div>\n",
       "<style scoped>\n",
       "    .dataframe tbody tr th:only-of-type {\n",
       "        vertical-align: middle;\n",
       "    }\n",
       "\n",
       "    .dataframe tbody tr th {\n",
       "        vertical-align: top;\n",
       "    }\n",
       "\n",
       "    .dataframe thead th {\n",
       "        text-align: right;\n",
       "    }\n",
       "</style>\n",
       "<table border=\"1\" class=\"dataframe\">\n",
       "  <thead>\n",
       "    <tr style=\"text-align: right;\">\n",
       "      <th></th>\n",
       "      <th>closed_jobs</th>\n",
       "      <th>company_name</th>\n",
       "      <th>open_jobs</th>\n",
       "    </tr>\n",
       "  </thead>\n",
       "  <tbody>\n",
       "    <tr>\n",
       "      <th>0</th>\n",
       "      <td>1</td>\n",
       "      <td>TAU</td>\n",
       "      <td>1</td>\n",
       "    </tr>\n",
       "    <tr>\n",
       "      <th>1</th>\n",
       "      <td>0</td>\n",
       "      <td>motiluhim_inc</td>\n",
       "      <td>2</td>\n",
       "    </tr>\n",
       "  </tbody>\n",
       "</table>\n",
       "</div>"
      ],
      "text/plain": [
       "   closed_jobs   company_name  open_jobs\n",
       "0            1            TAU          1\n",
       "1            0  motiluhim_inc          2"
      ]
     },
     "execution_count": 157,
     "metadata": {},
     "output_type": "execute_result"
    }
   ],
   "source": [
    "pd.DataFrame(list(res))\n",
    "# list(res)"
   ]
  },
  {
   "cell_type": "code",
   "execution_count": null,
   "metadata": {},
   "outputs": [
    {
     "data": {
      "text/plain": [
       "[{u'status': u'open', u'requirements': [u'python', u'big data', u'mongodb'], u'job_id': 1, u'application_list': [], u'publish_date': u'01-02-2020', u'location': u'Tel Aviv', u'job_title': u'fullstack developer'}, {u'status': u'open', u'requirements': [u'python', u'big data', u'mongodb'], u'job_id': 2, u'application_list': [], u'publish_date': u'01-02-2020', u'location': u'Tel Aviv', u'job_title': u'kaki developer'}]"
      ]
     },
     "execution_count": 165,
     "metadata": {},
     "output_type": "execute_result"
    }
   ],
   "source": [
    "res=companies.find_one({\"company_name\": 'motiluhim_inc'})\n",
    "list(res['jobs_list'])"
   ]
  },
  {
   "cell_type": "code",
   "execution_count": null,
   "metadata": {},
   "outputs": [
    {
     "name": "stdout",
     "output_type": "stream",
     "text": [
      "you are trying to apply to a closed job\n"
     ]
    },
    {
     "data": {
      "text/plain": [
       "-1"
      ]
     },
     "execution_count": 96,
     "metadata": {},
     "output_type": "execute_result"
    }
   ],
   "source": [
    "new_application({'candidate_name':'laura', 'email':'laura@gmail.com','linkedin':'https://www.linkedin.com/in/laura/', 'skills': ['python','sql']},'14-02-2022 15:00:00', '3','TAU', r=r, companies=companies)"
   ]
  },
  {
   "cell_type": "code",
   "execution_count": null,
   "metadata": {},
   "outputs": [
    {
     "data": {
      "text/plain": [
       "[('TAU', 1580562000.0)]"
      ]
     },
     "execution_count": 97,
     "metadata": {},
     "output_type": "execute_result"
    }
   ],
   "source": [
    "r.zrange('candidate_applications:laura@gmail.com',0,-1,withscores=True)"
   ]
  },
  {
   "cell_type": "code",
   "execution_count": null,
   "metadata": {},
   "outputs": [
    {
     "data": {
      "text/plain": [
       "[]"
      ]
     },
     "execution_count": 98,
     "metadata": {},
     "output_type": "execute_result"
    }
   ],
   "source": [
    "a = r.zrange('moti:luhim',0,-1,withscores=True)\n",
    "b = [x for x in a if x[0]=='haim']\n",
    "b"
   ]
  },
  {
   "cell_type": "code",
   "execution_count": 22,
   "metadata": {},
   "outputs": [
    {
     "name": "stdout",
     "output_type": "stream",
     "text": [
      "1+2+3\n"
     ]
    }
   ],
   "source": [
    "a=1 \n",
    "b=2 \n",
    "c=3 \n",
    "print('{}+{}+{}'.format(a, b, c))"
   ]
  }
 ],
 "metadata": {
  "kernelspec": {
   "display_name": "Python 2",
   "language": "python",
   "name": "python2"
  },
  "language_info": {
   "codemirror_mode": {
    "name": "ipython",
    "version": 2
   },
   "file_extension": ".py",
   "mimetype": "text/x-python",
   "name": "python",
   "nbconvert_exporter": "python",
   "pygments_lexer": "ipython2",
   "version": "2.7.15"
  },
  "orig_nbformat": 4
 },
 "nbformat": 4,
 "nbformat_minor": 2
}
